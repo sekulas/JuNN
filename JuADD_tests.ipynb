{
 "cells": [
  {
   "cell_type": "code",
   "execution_count": 304,
   "metadata": {},
   "outputs": [],
   "source": [
    "using JuAD\n",
    "using Zygote"
   ]
  },
  {
   "cell_type": "code",
   "execution_count": 305,
   "metadata": {},
   "outputs": [
    {
     "data": {
      "text/plain": [
       "zygote_gradient (generic function with 1 method)"
      ]
     },
     "metadata": {},
     "output_type": "display_data"
    }
   ],
   "source": [
    "function zygote_gradient(f, args...)\n",
    "    return jacobian((args...) -> f(args...), args...)\n",
    "end"
   ]
  },
  {
   "cell_type": "code",
   "execution_count": 306,
   "metadata": {},
   "outputs": [
    {
     "name": "stdout",
     "output_type": "stream",
     "text": [
      "([12 12], [10 10], [2 2])\n",
      "Float32[12.0; 12.0;;]\n",
      "Float32[10.0 10.0]\n",
      "Float32[1.0 1.0; 1.0 1.0]\n"
     ]
    }
   ],
   "source": [
    "A = [2; 8]\n",
    "X = [10 2]\n",
    "b = [2; 3]\n",
    "\n",
    "fZ(A, X, b) = sum((A * X) .+ b)\n",
    "println(zygote_gradient(fZ, A, X, b))\n",
    "\n",
    "fAD(A, X, b) = sum((Variable(A, name=\"A\") * Variable(X, name=\"X\")) .+ Variable(b))\n",
    "order = topological_sort(fAD(A, X, b))\n",
    "y = forward!(order)\n",
    "backward!(order)\n",
    "\n",
    "println(order[1].∇)\n",
    "println(order[2].∇)\n",
    "println(order[4].∇)"
   ]
  },
  {
   "cell_type": "code",
   "execution_count": 307,
   "metadata": {},
   "outputs": [
    {
     "name": "stdout",
     "output_type": "stream",
     "text": [
      "([12 12], [223 223])\n",
      "Float32[12.0; 12.0;;]\n",
      "Float32[223.0 223.0]\n"
     ]
    }
   ],
   "source": [
    "A = [11; 212]\n",
    "X = [10 2]\n",
    "\n",
    "fZ(A, X) = sum(A*X) + 100\n",
    "println(zygote_gradient(fZ, A, X))\n",
    "\n",
    "fAD(A, X) = sum(Variable(A, name=\"A\") * Variable(X, name=\"X\")) .+ Constant(100)\n",
    "order = topological_sort(fAD(A, X))\n",
    "y = forward!(order)\n",
    "backward!(order)\n",
    "\n",
    "println(order[1].∇)\n",
    "println(order[2].∇)"
   ]
  },
  {
   "cell_type": "code",
   "execution_count": 308,
   "metadata": {},
   "outputs": [
    {
     "name": "stdout",
     "output_type": "stream",
     "text": [
      "([6.0 6.0], [11.5 11.5], [-33.0 -36.0], [-2.0 -2.0])\n",
      "Float32[6.0; 6.0;;]\n",
      "Float32[11.5 11.5]\n",
      "Float32[-27.5 -5.5; -30.0 -6.0]\n",
      "Float32[-1.0 -1.0; -1.0 -1.0]\n"
     ]
    }
   ],
   "source": [
    "A = [11; 12]\n",
    "X = [10 2]\n",
    "b = [2; 2]\n",
    "c = [7; 7]\n",
    "\n",
    "fZ2(A, x, b, c) = sum((A*x ./ b) .- c)\n",
    "println(zygote_gradient(fZ2, A, X, b, c))\n",
    "\n",
    "fAD2(A, X, b, c) = sum((Variable(A) * Variable(X) ./ Variable(b)) .- Variable(c)) \n",
    "order = topological_sort(fAD2(A, X, b, c))\n",
    "y = forward!(order)\n",
    "backward!(order) \n",
    "\n",
    "println(order[1].∇)\n",
    "println(order[2].∇)\n",
    "println(order[4].∇)\n",
    "println(order[6].∇)\n"
   ]
  },
  {
   "cell_type": "code",
   "execution_count": 309,
   "metadata": {},
   "outputs": [
    {
     "name": "stdout",
     "output_type": "stream",
     "text": [
      "(Float32[12.0 12.0], Float32[23.0 23.0])\n",
      "Float32[12.0; 12.0;;]\n",
      "Float32[23.0 23.0]\n"
     ]
    }
   ],
   "source": [
    "A = [11; 12]\n",
    "X = [10 2]\n",
    "\n",
    "function relu(x)\n",
    "    max.(0.0f0, x)\n",
    "end\n",
    "\n",
    "\n",
    "fZ3(A, X) = sum(relu(A*X))\n",
    "println(zygote_gradient(fZ3, A, X))\n",
    "\n",
    "fAD3(A, X) = sum(ReLU(Variable(A, name=\"A\") * Variable(X, name=\"X\")))\n",
    "order = topological_sort(fAD3(A, X))\n",
    "y = forward!(order)\n",
    "backward!(order)\n",
    "\n",
    "println(order[1].∇)\n",
    "println(order[2].∇)"
   ]
  }
 ],
 "metadata": {
  "kernelspec": {
   "display_name": "Julia 1.11.5",
   "language": "julia",
   "name": "julia-1.11"
  },
  "language_info": {
   "file_extension": ".jl",
   "mimetype": "application/julia",
   "name": "julia",
   "version": "1.11.5"
  }
 },
 "nbformat": 4,
 "nbformat_minor": 2
}
