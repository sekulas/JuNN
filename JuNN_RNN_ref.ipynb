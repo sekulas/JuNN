{
 "cells": [
  {
   "cell_type": "code",
   "execution_count": 30,
   "id": "7bd02bb5",
   "metadata": {},
   "outputs": [
    {
     "data": {
      "text/plain": [
       "TaskLocalRNG()"
      ]
     },
     "metadata": {},
     "output_type": "display_data"
    }
   ],
   "source": [
    "include(\"./src/structs.jl\")\n",
    "include(\"./src/scalar_operators.jl\")\n",
    "include(\"./src/broadcast_operators.jl\")\n",
    "include(\"./src/graph.jl\")\n",
    "include(\"./src/forward.jl\")\n",
    "include(\"./src/backward.jl\")\n",
    "include(\"./src/data_loader.jl\")\n",
    "include(\"./src/nn_model.jl\")\n",
    "include(\"./src/optimisers.jl\")\n",
    "include(\"./src/losses.jl\")\n",
    "include(\"./src/layers.jl\")\n",
    "include(\"./src/recurrent.jl\")\n",
    "\n",
    "using Printf, Random\n",
    "Random.seed!(0)"
   ]
  },
  {
   "cell_type": "code",
   "execution_count": 13,
   "id": "632cd0b7",
   "metadata": {},
   "outputs": [],
   "source": [
    "using JLD2\n",
    "X_train = load(\"./data_rnn/imdb_dataset_prepared.jld2\", \"X_train\")\n",
    "y_train = load(\"./data_rnn/imdb_dataset_prepared.jld2\", \"y_train\")\n",
    "X_test = load(\"./data_rnn/imdb_dataset_prepared.jld2\", \"X_test\")\n",
    "y_test = load(\"./data_rnn/imdb_dataset_prepared.jld2\", \"y_test\")\n",
    "embeddings = load(\"./data_rnn/imdb_dataset_prepared.jld2\", \"embeddings\")\n",
    "vocab = load(\"./data_rnn/imdb_dataset_prepared.jld2\", \"vocab\")\n",
    "nothing"
   ]
  },
  {
   "cell_type": "code",
   "execution_count": 23,
   "id": "96795126",
   "metadata": {},
   "outputs": [],
   "source": [
    "println(\"X_train: \", size(X_train))\n",
    "println(\"y_train: \", size(y_train))\n",
    "println(\"X_test: \", size(X_test))\n",
    "println(\"y_test: \", size(y_test))\n",
    "println(\"embeddings: \", size(embeddings))\n",
    "println(\"vocab: \", size(vocab))"
   ]
  },
  {
   "cell_type": "code",
   "execution_count": 24,
   "id": "321e75fb",
   "metadata": {},
   "outputs": [
    {
     "data": {
      "text/plain": [
       "1"
      ]
     },
     "metadata": {},
     "output_type": "display_data"
    }
   ],
   "source": [
    "vocab_size = length(vocab)\n",
    "embed_dim = size(embeddings, 1)  # 50 from your comment\n",
    "sequence_length = size(X_train, 1)  # 130 from your comment\n",
    "batch_size = 1"
   ]
  },
  {
   "cell_type": "code",
   "execution_count": 28,
   "id": "7d9d0306",
   "metadata": {},
   "outputs": [
    {
     "data": {
      "text/plain": [
       "accuracy (generic function with 1 method)"
      ]
     },
     "metadata": {},
     "output_type": "display_data"
    }
   ],
   "source": [
    "model = Chain(\n",
    "    Embedding(vocab_size, embed_dim, name=\"embedding\"),\n",
    "    RNN(embed_dim, 16, return_sequences=false, name=\"rnn_layer\"),\n",
    "    Dense((16 => 1), σ, name=\"output_layer\")\n",
    ")\n",
    "\n",
    "    \n",
    "model.layers[1].weights.output .= embeddings\n",
    "\n",
    "\n",
    "accuracy(y_true, y_pred) = mean((y_true .> 0.5) .== (y_pred .> 0.5))"
   ]
  },
  {
   "cell_type": "code",
   "execution_count": 16,
   "id": "8febb394",
   "metadata": {},
   "outputs": [
    {
     "data": {
      "text/plain": [
       "DataLoader{Tuple{LinearAlgebra.Adjoint{Int64, Matrix{Int64}}, BitMatrix}, TaskLocalRNG}(([2909 1428 … 172 1841; 3067 9406 … 3324 1676; … ; 12849 3392 … 6695 286; 12849 2411 … 9521 286], Bool[0 1 … 0 0]), 10000, [1, 2, 3, 4, 5, 6, 7, 8, 9, 10  …  9991, 9992, 9993, 9994, 9995, 9996, 9997, 9998, 9999, 10000], 1, 10000, false, TaskLocalRNG())"
      ]
     },
     "metadata": {},
     "output_type": "display_data"
    }
   ],
   "source": [
    "dataset = DataLoader((X_train, y_train), batchsize=batch_size, shuffle=true)\n",
    "testset = DataLoader((X_test, y_test), batchsize=batch_size, shuffle=false)"
   ]
  },
  {
   "cell_type": "code",
   "execution_count": 31,
   "id": "709152a2",
   "metadata": {},
   "outputs": [
    {
     "ename": "MethodError",
     "evalue": "MethodError: no method matching size(::Nothing)\nThe function `size` exists, but no method is defined for this combination of argument types.\n\nClosest candidates are:\n  size(!Matched::BitVector)\n   @ Base bitarray.jl:104\n  size(!Matched::BitVector, !Matched::Integer)\n   @ Base bitarray.jl:107\n  size(!Matched::Core.Compiler.StmtRange)\n   @ Base show.jl:2820\n  ...\n",
     "output_type": "error",
     "traceback": [
      "MethodError: no method matching size(::Nothing)\n",
      "The function `size` exists, but no method is defined for this combination of argument types.\n",
      "\n",
      "Closest candidates are:\n",
      "  size(!Matched::BitVector)\n",
      "   @ Base bitarray.jl:104\n",
      "  size(!Matched::BitVector, !Matched::Integer)\n",
      "   @ Base bitarray.jl:107\n",
      "  size(!Matched::Core.Compiler.StmtRange)\n",
      "   @ Base show.jl:2820\n",
      "  ...\n",
      "\n",
      "\n",
      "Stacktrace:\n",
      " [1] (::RNN)(x::BroadcastedOperator{typeof(mul!)}, initial_hidden::Nothing)\n",
      "   @ Main ~/Desktop/JuNN/src/recurrent.jl:82\n",
      " [2] RNN\n",
      "   @ ~/Desktop/JuNN/src/recurrent.jl:81 [inlined]\n",
      " [3] macro expansion\n",
      "   @ ~/Desktop/JuNN/src/layers.jl:10 [inlined]\n",
      " [4] _apply_layer_sequence(layers::Tuple{Embedding, RNN, Dense{typeof(σ)}}, input::Variable)\n",
      "   @ Main ~/Desktop/JuNN/src/layers.jl:10\n",
      " [5] Chain\n",
      "   @ ~/Desktop/JuNN/src/layers.jl:9 [inlined]\n",
      " [6] NeuralNetwork(model::Chain{Tuple{Embedding, RNN, Dense{typeof(σ)}}}, optimizer::RMSProp, loss::typeof(binary_cross_entropy), accuracy::Function)\n",
      "   @ Main ~/Desktop/JuNN/src/nn_model.jl:25\n",
      " [7] top-level scope\n",
      "   @ ~/Desktop/JuNN/jl_notebook_cell_df34fa98e69747e1a8f8a730347b8e2f_W5sZmlsZQ==.jl:2"
     ]
    }
   ],
   "source": [
    "\n",
    "net = NeuralNetwork(model, RMSProp(), binary_cross_entropy, accuracy)"
   ]
  },
  {
   "cell_type": "code",
   "execution_count": null,
   "id": "c56f744f",
   "metadata": {},
   "outputs": [
    {
     "data": {
      "text/plain": [
       "Chain{Tuple{Embedding, RNN{typeof(ReLU)}, typeof(get_last), typeof(flatten), Dense{typeof(σ)}}}((Embedding(Variable(Float32[0.011746252 0.011771972 … 0.008536924 -0.005072477; 0.006740404 0.011394465 … 0.018728161 0.010205761; … ; 0.013949568 -0.0186823 … -0.0066614444 0.015276386; 0.0052829185 -0.016880201 … -0.012988941 0.007946664], nothing, \"embedding\")), RNN{typeof(ReLU)}(RNNCell{typeof(ReLU)}(Variable(Float32[0.084092565 -0.2840545 … 0.16767122 0.10863211; 0.2502509 0.2688337 … 0.17747103 -0.24526584; … ; -0.24021575 0.08683379 … 0.28555062 0.258427; -0.0031146007 -0.25705355 … -0.004985575 -0.26176253], nothing, \"rnn_W_ih\"), Variable(Float32[-0.41465202 -0.0959148 … -0.06520751 0.39138314; 0.27736914 -0.10750067 … -0.2300193 0.045505572; … ; -0.31230676 -0.17743583 … 0.087863095 -0.024300275; 0.22127126 0.3128932 … -0.13270226 -0.2242362], nothing, \"rnn_W_hh\"), Variable(Float32[0.0; 0.0; … ; 0.0; 0.0;;], nothing, \"rnn_bias\"), Main.ReLU, 16), true), Main.get_last, Main.flatten, Dense{typeof(σ)}(Variable(Float32[0.03917372 -0.2327647 … 0.19177407 0.024140924], nothing, \"dense_16=>1\"), Variable(Float32[0.0], nothing, \"dense_16=>1_bias\"), Main.σ)))"
      ]
     },
     "metadata": {},
     "output_type": "display_data"
    }
   ],
   "source": [
    "epochs = 12\n",
    "for epoch in 1:epochs\n",
    "    t = @elapsed begin\n",
    "        train_loss, train_acc = train!(net, dataset)\n",
    "    end\n",
    "    \n",
    "    test_loss, test_acc = evaluate(net, testset)\n",
    "    @printf(\"Epoch %d/%d: Train Loss: %.4f, Train Acc: %.4f, Test Loss: %.4f, Test Acc: %.4f, Time: %.2fs\\n\",\n",
    "            epoch, epochs, train_loss, train_acc, test_loss, test_acc, t)\n",
    "end"
   ]
  },
  {
   "cell_type": "code",
   "execution_count": null,
   "id": "b6ff6a42",
   "metadata": {},
   "outputs": [],
   "source": []
  }
 ],
 "metadata": {
  "kernelspec": {
   "display_name": "Julia 1.11.5",
   "language": "julia",
   "name": "julia-1.11"
  },
  "language_info": {
   "file_extension": ".jl",
   "mimetype": "application/julia",
   "name": "julia",
   "version": "1.11.5"
  }
 },
 "nbformat": 4,
 "nbformat_minor": 5
}
