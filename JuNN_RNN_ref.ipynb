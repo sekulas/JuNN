{
 "cells": [
  {
   "cell_type": "code",
   "execution_count": 46,
   "id": "7bd02bb5",
   "metadata": {},
   "outputs": [
    {
     "data": {
      "text/plain": [
       "TaskLocalRNG()"
      ]
     },
     "metadata": {},
     "output_type": "display_data"
    }
   ],
   "source": [
    "using JuNN\n",
    "\n",
    "using Printf, Random\n",
    "Random.seed!(0)"
   ]
  },
  {
   "cell_type": "code",
   "execution_count": 47,
   "id": "632cd0b7",
   "metadata": {},
   "outputs": [],
   "source": [
    "using JLD2\n",
    "X_train = load(\"./data_rnn/imdb_dataset_prepared.jld2\", \"X_train\")\n",
    "y_train = load(\"./data_rnn/imdb_dataset_prepared.jld2\", \"y_train\")\n",
    "X_test = load(\"./data_rnn/imdb_dataset_prepared.jld2\", \"X_test\")\n",
    "y_test = load(\"./data_rnn/imdb_dataset_prepared.jld2\", \"y_test\")\n",
    "embeddings = load(\"./data_rnn/imdb_dataset_prepared.jld2\", \"embeddings\")\n",
    "vocab = load(\"./data_rnn/imdb_dataset_prepared.jld2\", \"vocab\")\n",
    "nothing"
   ]
  },
  {
   "cell_type": "code",
   "execution_count": 48,
   "id": "96795126",
   "metadata": {},
   "outputs": [
    {
     "name": "stdout",
     "output_type": "stream",
     "text": [
      "X_train: (130, 40000)\n",
      "y_train: (1, 40000)\n",
      "X_test: (130, 10000)\n",
      "y_test: (1, 10000)\n",
      "embeddings: (50, 12849)\n",
      "vocab: (12849,)\n"
     ]
    }
   ],
   "source": [
    "println(\"X_train: \", size(X_train))\n",
    "println(\"y_train: \", size(y_train))\n",
    "println(\"X_test: \", size(X_test))\n",
    "println(\"y_test: \", size(y_test))\n",
    "println(\"embeddings: \", size(embeddings))\n",
    "println(\"vocab: \", size(vocab))"
   ]
  },
  {
   "cell_type": "code",
   "execution_count": 49,
   "id": "321e75fb",
   "metadata": {},
   "outputs": [
    {
     "data": {
      "text/plain": [
       "128"
      ]
     },
     "metadata": {},
     "output_type": "display_data"
    }
   ],
   "source": [
    "vocab_size = length(vocab)\n",
    "embed_dim = size(embeddings, 1)     # 50\n",
    "sequence_length = size(X_train, 1)  # 130\n",
    "batch_size = 128"
   ]
  },
  {
   "cell_type": "code",
   "execution_count": 50,
   "id": "7d9d0306",
   "metadata": {},
   "outputs": [
    {
     "data": {
      "text/plain": [
       "accuracy (generic function with 1 method)"
      ]
     },
     "metadata": {},
     "output_type": "display_data"
    }
   ],
   "source": [
    "model = Chain(\n",
    "    Embedding(vocab_size, embed_dim, name=\"embedding\"),\n",
    "    RNN(embed_dim, 16, name=\"rnn_layer\"),\n",
    "    Dense((16 => 1), σ, name=\"output_layer\")\n",
    ")\n",
    "    \n",
    "model.layers[1].weights.output .= embeddings\n",
    "dataset = DataLoader((X_train, y_train), batchsize=batch_size, shuffle=true)\n",
    "testset = DataLoader((X_test, y_test), batchsize=batch_size, shuffle=false)\n",
    "\n",
    "accuracy(y_true, y_pred) = mean((y_true .> 0.5f0) .== (y_pred .> 0.5f0))"
   ]
  },
  {
   "cell_type": "code",
   "execution_count": 51,
   "id": "8febb394",
   "metadata": {},
   "outputs": [
    {
     "name": "stdout",
     "output_type": "stream",
     "text": [
      "Adding Embedding layer parameters: 1\n",
      "Adding RNN layer parameters: 2\n",
      "Adding RNN layer bias: 2\n",
      "Adding Dense layer parameters: 3\n",
      "Adding Dense layer bias: 3\n"
     ]
    },
    {
     "data": {
      "text/plain": [
       "NeuralNetwork(Chain{Tuple{Embedding, RNN, Dense{typeof(σ)}}}((Embedding(var embedding\n",
       " ┣━ ^ 50×12849 Matrix{Float32}\n",
       " ┗━ ∇ Nothing), RNN(RNNCell(var rnn_layer_W_ih\n",
       " ┣━ ^ 16×50 Matrix{Float32}\n",
       " ┗━ ∇ Nothing, var rnn_layer_W_hh\n",
       " ┣━ ^ 16×16 Matrix{Float32}\n",
       " ┗━ ∇ Nothing, var rnn_layer_bias\n",
       " ┣━ ^ 16×1 Matrix{Float32}\n",
       " ┗━ ∇ Nothing, JuAD.ReLU), 16), Dense{typeof(σ)}(var output_layer\n",
       " ┣━ ^ 1×16 Matrix{Float32}\n",
       " ┗━ ∇ Nothing, var output_layer_bias\n",
       " ┣━ ^ 1-element Vector{Float32}\n",
       " ┗━ ∇ Nothing, JuAD.σ))), RMSProp(0.001f0, 0.9f0, 1.1920929f-7, IdDict{Any, Array{Float32}}()), JuNN.binary_cross_entropy, Main.accuracy, var x_input\n",
       " ┣━ ^ 130×128 Matrix{Int32}\n",
       " ┗━ ∇ Nothing, var y_true\n",
       " ┣━ ^ 1×128 Matrix{Float32}\n",
       " ┗━ ∇ Nothing, op.?(typeof(σ)), JuAD.GraphNode[const -1.0, var y_true\n",
       " ┣━ ^ 1×128 Matrix{Float32}\n",
       " ┗━ ∇ Nothing, op.?(typeof(*)), var output_layer\n",
       " ┣━ ^ 1×16 Matrix{Float32}\n",
       " ┗━ ∇ Nothing, var rnn_layer_W_ih\n",
       " ┣━ ^ 16×50 Matrix{Float32}\n",
       " ┗━ ∇ Nothing, var embedding\n",
       " ┣━ ^ 50×12849 Matrix{Float32}\n",
       " ┗━ ∇ Nothing, var x_input\n",
       " ┣━ ^ 130×128 Matrix{Int32}\n",
       " ┗━ ∇ Nothing, JuNN.IndexOperator((var embedding\n",
       " ┣━ ^ 50×12849 Matrix{Float32}\n",
       " ┗━ ∇ Nothing, var x_input\n",
       " ┣━ ^ 130×128 Matrix{Int32}\n",
       " ┗━ ∇ Nothing), Float32[0.90951 0.90951 … 0.90951 0.90951; -0.20702 -0.20702 … -0.20702 -0.20702; … ; -0.60396 -0.60396 … -0.60396 -0.60396; -0.31136 -0.31136 … -0.31136 -0.31136;;; 0.90951 0.90951 … 0.90951 0.90951; -0.20702 -0.20702 … -0.20702 -0.20702; … ; -0.60396 -0.60396 … -0.60396 -0.60396; -0.31136 -0.31136 … -0.31136 -0.31136;;; 0.90951 0.90951 … 0.90951 0.90951; -0.20702 -0.20702 … -0.20702 -0.20702; … ; -0.60396 -0.60396 … -0.60396 -0.60396; -0.31136 -0.31136 … -0.31136 -0.31136;;; … ;;; 0.90951 0.90951 … 0.90951 0.90951; -0.20702 -0.20702 … -0.20702 -0.20702; … ; -0.60396 -0.60396 … -0.60396 -0.60396; -0.31136 -0.31136 … -0.31136 -0.31136;;; 0.90951 0.90951 … 0.90951 0.90951; -0.20702 -0.20702 … -0.20702 -0.20702; … ; -0.60396 -0.60396 … -0.60396 -0.60396; -0.31136 -0.31136 … -0.31136 -0.31136;;; 0.90951 0.90951 … 0.90951 0.90951; -0.20702 -0.20702 … -0.20702 -0.20702; … ; -0.60396 -0.60396 … -0.60396 -0.60396; -0.31136 -0.31136 … -0.31136 -0.31136], nothing, \"embedding_output\"), const 130, op.?(typeof(JuAD.getindex_col_batch))  …  op.?(typeof(log)), op.?(typeof(*)), const 1.0, op.?(typeof(-)), op.?(typeof(-)), op.?(typeof(+)), op.?(typeof(log)), op.?(typeof(*)), op.?(typeof(-)), op.?(typeof(mean))], JuAD.Variable[var embedding\n",
       " ┣━ ^ 50×12849 Matrix{Float32}\n",
       " ┗━ ∇ Nothing, var rnn_layer_W_ih\n",
       " ┣━ ^ 16×50 Matrix{Float32}\n",
       " ┗━ ∇ Nothing, var rnn_layer_W_hh\n",
       " ┣━ ^ 16×16 Matrix{Float32}\n",
       " ┗━ ∇ Nothing, var rnn_layer_bias\n",
       " ┣━ ^ 16×1 Matrix{Float32}\n",
       " ┗━ ∇ Nothing, var output_layer\n",
       " ┣━ ^ 1×16 Matrix{Float32}\n",
       " ┗━ ∇ Nothing, var output_layer_bias\n",
       " ┣━ ^ 1-element Vector{Float32}\n",
       " ┗━ ∇ Nothing])"
      ]
     },
     "metadata": {},
     "output_type": "display_data"
    }
   ],
   "source": [
    "net = NeuralNetwork(model, RMSProp(), binary_cross_entropy, accuracy, batch_size, seq_length=sequence_length)"
   ]
  },
  {
   "cell_type": "code",
   "execution_count": 52,
   "id": "c56f744f",
   "metadata": {},
   "outputs": [
    {
     "name": "stdout",
     "output_type": "stream",
     "text": [
      " 30.914038 seconds (82.25 M allocations: 136.616 GiB, 34.22% gc time, 0.27% compilation time)\n",
      "Epoch 1/12: Train Loss: 0.6980, Train Acc: 0.5090, Test Loss: 0.6950, Test Acc: 0.5006\n",
      " 31.098906 seconds (81.90 M allocations: 136.596 GiB, 34.10% gc time)\n",
      "Epoch 2/12: Train Loss: 0.6908, Train Acc: 0.5190, Test Loss: 0.6938, Test Acc: 0.5052\n",
      " 31.321431 seconds (81.90 M allocations: 136.596 GiB, 33.90% gc time)\n",
      "Epoch 3/12: Train Loss: 0.6860, Train Acc: 0.5296, Test Loss: 0.6921, Test Acc: 0.5170\n",
      " 31.391750 seconds (81.90 M allocations: 136.596 GiB, 33.80% gc time)\n",
      "Epoch 4/12: Train Loss: 0.6789, Train Acc: 0.5442, Test Loss: 0.6780, Test Acc: 0.6452\n",
      " 31.660940 seconds (81.90 M allocations: 136.596 GiB, 33.89% gc time)\n",
      "Epoch 5/12: Train Loss: 0.6276, Train Acc: 0.6720, Test Loss: 0.6274, Test Acc: 0.6776\n",
      " 32.059743 seconds (81.90 M allocations: 136.596 GiB, 34.21% gc time)\n",
      "Epoch 6/12: Train Loss: 0.6077, Train Acc: 0.6927, Test Loss: 0.6168, Test Acc: 0.6983\n",
      " 32.612973 seconds (81.90 M allocations: 136.596 GiB, 34.45% gc time)\n",
      "Epoch 7/12: Train Loss: 0.5713, Train Acc: 0.7333, Test Loss: 0.5852, Test Acc: 0.7255\n",
      " 31.698455 seconds (81.90 M allocations: 136.596 GiB, 33.74% gc time)\n",
      "Epoch 8/12: Train Loss: 0.5387, Train Acc: 0.7590, Test Loss: 0.5279, Test Acc: 0.7612\n",
      " 31.459504 seconds (81.90 M allocations: 136.596 GiB, 33.35% gc time)\n",
      "Epoch 9/12: Train Loss: 0.4816, Train Acc: 0.7910, Test Loss: 0.4858, Test Acc: 0.7862\n",
      " 31.715122 seconds (81.90 M allocations: 136.596 GiB, 33.78% gc time)\n",
      "Epoch 10/12: Train Loss: 0.4422, Train Acc: 0.8145, Test Loss: 0.4491, Test Acc: 0.8032\n",
      " 31.761876 seconds (81.90 M allocations: 136.596 GiB, 33.77% gc time)\n",
      "Epoch 11/12: Train Loss: 0.4030, Train Acc: 0.8351, Test Loss: 0.4233, Test Acc: 0.8189\n",
      " 32.257510 seconds (81.90 M allocations: 136.596 GiB, 34.12% gc time)\n",
      "Epoch 12/12: Train Loss: 0.3819, Train Acc: 0.8480, Test Loss: 0.4174, Test Acc: 0.8253\n"
     ]
    }
   ],
   "source": [
    "epochs = 12\n",
    "for epoch in 1:epochs\n",
    "    t = @time begin\n",
    "        train_loss, train_acc = train!(net, dataset)\n",
    "    end\n",
    "    \n",
    "    test_loss, test_acc = evaluate(net, testset)\n",
    "    @printf(\"Epoch %d/%d: Train Loss: %.4f, Train Acc: %.4f, Test Loss: %.4f, Test Acc: %.4f\\n\",\n",
    "            epoch, epochs, train_loss, train_acc, test_loss, test_acc)\n",
    "end"
   ]
  }
 ],
 "metadata": {
  "kernelspec": {
   "display_name": "Julia 1.11.5",
   "language": "julia",
   "name": "julia-1.11"
  },
  "language_info": {
   "file_extension": ".jl",
   "mimetype": "application/julia",
   "name": "julia",
   "version": "1.11.5"
  }
 },
 "nbformat": 4,
 "nbformat_minor": 5
}
