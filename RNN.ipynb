{
 "cells": [
  {
   "cell_type": "code",
   "execution_count": 13,
   "id": "46053002",
   "metadata": {},
   "outputs": [
    {
     "name": "stderr",
     "output_type": "stream",
     "text": [
      "\u001b[32m\u001b[1m  Activating\u001b[22m\u001b[39m project at `~/school/t`\n",
      "\u001b[32m\u001b[1m   Resolving\u001b[22m\u001b[39m package versions...\n",
      "\u001b[32m\u001b[1m  No Changes\u001b[22m\u001b[39m to `~/school/t/Project.toml`\n",
      "\u001b[32m\u001b[1m  No Changes\u001b[22m\u001b[39m to `~/school/t/Manifest.toml`\n"
     ]
    }
   ],
   "source": [
    "using Pkg\n",
    "Pkg.activate(\"..\")\n",
    "Pkg.add(\"Flux\")"
   ]
  },
  {
   "cell_type": "code",
   "execution_count": 14,
   "id": "6555f7c9",
   "metadata": {},
   "outputs": [],
   "source": [
    "using JLD2\n",
    "X_train = load(\"./data_rnn/imdb_dataset_prepared.jld2\", \"X_train\")\n",
    "y_train = load(\"./data_rnn/imdb_dataset_prepared.jld2\", \"y_train\")\n",
    "X_test = load(\"./data_rnn/imdb_dataset_prepared.jld2\", \"X_test\")\n",
    "y_test = load(\"./data_rnn/imdb_dataset_prepared.jld2\", \"y_test\")\n",
    "embeddings = load(\"./data_rnn/imdb_dataset_prepared.jld2\", \"embeddings\")\n",
    "vocab = load(\"./data_rnn/imdb_dataset_prepared.jld2\", \"vocab\")\n",
    "nothing\n",
    "\n",
    "embedding_dim = size(embeddings,1);"
   ]
  },
  {
   "cell_type": "code",
   "execution_count": 15,
   "id": "13aad85f",
   "metadata": {},
   "outputs": [
    {
     "data": {
      "text/plain": [
       "Chain(\n",
       "  Embedding(12849 => 50),               \u001b[90m# 642_450 parameters\u001b[39m\n",
       "  RNN(50 => 16, relu),                  \u001b[90m# 1_072 parameters\u001b[39m\n",
       "  var\"#19#20\"(),\n",
       "  Flux.flatten,\n",
       "  Dense(16 => 1, σ),                    \u001b[90m# 17 parameters\u001b[39m\n",
       ") \u001b[90m                  # Total: 6 arrays, \u001b[39m643_539 parameters, 2.455 MiB."
      ]
     },
     "metadata": {},
     "output_type": "display_data"
    }
   ],
   "source": [
    "using Flux, Random\n",
    "Random.seed!(0)\n",
    "\n",
    "model = Chain(\n",
    "    Flux.Embedding(length(vocab), embedding_dim),\n",
    "    Flux.RNN(embedding_dim => 16, relu, return_state = true),\n",
    "    x -> x[end],\n",
    "    Flux.flatten,\n",
    "    Dense(16, 1, σ)\n",
    ")\n"
   ]
  },
  {
   "cell_type": "code",
   "execution_count": 16,
   "id": "80b4a26d",
   "metadata": {},
   "outputs": [],
   "source": [
    "# add Glove embeddings to Embedding layer\n",
    "model.layers[1].weight .= embeddings;"
   ]
  },
  {
   "cell_type": "code",
   "execution_count": 17,
   "id": "b2428538",
   "metadata": {},
   "outputs": [
    {
     "name": "stdout",
     "output_type": "stream",
     "text": [
      "  5.013149 seconds (15.54 M allocations: 13.065 GiB, 15.40% gc time, 9.99% compilation time)\n",
      "Epoch: 1 (0.69s) \tTrain: (l: 0.69, a: 0.52) \tTest: (l: 0.69, a: 0.50)\n",
      "  4.580736 seconds (13.18 M allocations: 12.952 GiB, 17.46% gc time)\n",
      "Epoch: 2 (0.69s) \tTrain: (l: 0.68, a: 0.54) \tTest: (l: 0.69, a: 0.51)\n",
      "  4.576097 seconds (13.18 M allocations: 12.952 GiB, 17.51% gc time)\n",
      "Epoch: 3 (0.53s) \tTrain: (l: 0.57, a: 0.71) \tTest: (l: 0.53, a: 0.75)\n",
      "  4.626041 seconds (13.18 M allocations: 12.952 GiB, 17.43% gc time)\n",
      "Epoch: 4 (0.47s) \tTrain: (l: 0.46, a: 0.80) \tTest: (l: 0.47, a: 0.79)\n",
      "  4.542310 seconds (13.18 M allocations: 12.952 GiB, 17.06% gc time)\n",
      "Epoch: 5 (0.42s) \tTrain: (l: 0.41, a: 0.83) \tTest: (l: 0.42, a: 0.82)\n",
      "  4.486685 seconds (13.18 M allocations: 12.952 GiB, 16.68% gc time)\n",
      "Epoch: 6 (0.39s) \tTrain: (l: 0.36, a: 0.86) \tTest: (l: 0.39, a: 0.84)\n",
      "  4.608533 seconds (13.18 M allocations: 12.952 GiB, 17.79% gc time)\n",
      "Epoch: 7 (0.38s) \tTrain: (l: 0.32, a: 0.88) \tTest: (l: 0.38, a: 0.85)\n",
      "  4.609629 seconds (13.18 M allocations: 12.952 GiB, 17.54% gc time)\n",
      "Epoch: 8 (0.39s) \tTrain: (l: 0.29, a: 0.89) \tTest: (l: 0.39, a: 0.85)\n",
      "  4.583048 seconds (13.18 M allocations: 12.952 GiB, 17.64% gc time)\n",
      "Epoch: 9 (0.40s) \tTrain: (l: 0.27, a: 0.90) \tTest: (l: 0.40, a: 0.84)\n",
      "  4.365412 seconds (13.18 M allocations: 12.952 GiB, 16.04% gc time)\n",
      "Epoch: 10 (0.43s) \tTrain: (l: 0.24, a: 0.91) \tTest: (l: 0.43, a: 0.86)\n",
      "  4.307997 seconds (13.18 M allocations: 12.952 GiB, 15.70% gc time)\n",
      "Epoch: 11 (0.34s) \tTrain: (l: 0.23, a: 0.91) \tTest: (l: 0.34, a: 0.86)\n",
      "  4.089738 seconds (13.18 M allocations: 12.952 GiB, 15.17% gc time)\n",
      "Epoch: 12 (0.33s) \tTrain: (l: 0.21, a: 0.92) \tTest: (l: 0.33, a: 0.87)\n"
     ]
    }
   ],
   "source": [
    "using Printf, Statistics\n",
    "\n",
    "dataset = Flux.DataLoader((X_train, y_train), batchsize=128, shuffle=true)\n",
    "\n",
    "loss(m, x, y) = Flux.Losses.binarycrossentropy(m(x), y)\n",
    "accuracy(m, x, y) = mean((m(x) .> 0.5) .== (y .> 0.5))\n",
    "\n",
    "opt = Optimisers.setup(RMSProp(), model)\n",
    "\n",
    "epochs = 12\n",
    "for epoch in 1:epochs\n",
    "    total_loss = 0.0\n",
    "    total_acc = 0.0\n",
    "    num_samples = 0\n",
    "\n",
    "    t = @time begin\n",
    "        for (x, y) in dataset\n",
    "            Flux.reset!(model)\n",
    "            grads = Flux.gradient(model) do m\n",
    "                loss(m, x, y)\n",
    "            end\n",
    "            Optimisers.update!(opt, model, grads[1])\n",
    "            total_loss += loss(model, x, y)\n",
    "            total_acc += accuracy(model, x, y)\n",
    "            num_samples += 1\n",
    "        end\n",
    "\n",
    "        train_loss = total_loss / num_samples\n",
    "        train_acc = total_acc / num_samples\n",
    "\n",
    "        test_acc = accuracy(model, X_test, y_test)\n",
    "        test_loss = loss(model, X_test, y_test)\n",
    "    end\n",
    "\n",
    "    println(@sprintf(\"Epoch: %d (%.2fs) \\tTrain: (l: %.2f, a: %.2f) \\tTest: (l: %.2f, a: %.2f)\", \n",
    "        epoch, t, train_loss, train_acc, test_loss, test_acc))\n",
    "end"
   ]
  }
 ],
 "metadata": {
  "kernelspec": {
   "display_name": "Julia 1.11.5",
   "language": "julia",
   "name": "julia-1.11"
  },
  "language_info": {
   "file_extension": ".jl",
   "mimetype": "application/julia",
   "name": "julia",
   "version": "1.11.5"
  }
 },
 "nbformat": 4,
 "nbformat_minor": 5
}
