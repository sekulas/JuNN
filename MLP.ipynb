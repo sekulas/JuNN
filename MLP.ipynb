{
 "cells": [
  {
   "cell_type": "code",
   "execution_count": null,
   "id": "15c0cd20-258e-41d8-ad34-0a775fad6fea",
   "metadata": {
    "editable": true,
    "slideshow": {
     "slide_type": ""
    },
    "tags": []
   },
   "outputs": [],
   "source": [
    "abstract type GraphNode end\n",
    "abstract type Operator <: GraphNode end\n",
    "\n",
    "struct Constant{T} <: GraphNode\n",
    "    output :: T\n",
    "end\n",
    "\n",
    "mutable struct Variable <: GraphNode\n",
    "    output :: Any\n",
    "    gradient :: Any\n",
    "    name :: String\n",
    "    Variable(output, gradient, name) = new(output, gradient, name)\n",
    "end\n",
    "Variable(output; name=\"?\") = Variable(output, nothing, name)\n",
    "\n",
    "mutable struct ScalarOperator{F} <: Operator\n",
    "    inputs :: Any\n",
    "    output :: Any\n",
    "    gradient :: Any\n",
    "    name :: String\n",
    "    ScalarOperator(fun, inputs...; name=\"?\") = new{typeof(fun)}(inputs, nothing, nothing, name)\n",
    "end\n",
    "\n",
    "mutable struct BroadcastedOperator{F} <: Operator\n",
    "    inputs :: Any\n",
    "    output :: Any\n",
    "    gradient :: Any\n",
    "    name :: String\n",
    "    BroadcastedOperator(fun, inputs...; name=\"?\") = new{typeof(fun)}(inputs, nothing, nothing, name)\n",
    "end"
   ]
  },
  {
   "cell_type": "markdown",
   "id": "424c1c55-6eb4-491a-b15b-b2382409d60e",
   "metadata": {},
   "source": [
    "# Pretty-printing"
   ]
  },
  {
   "cell_type": "code",
   "execution_count": null,
   "id": "3fff5232-f6c6-4dae-b41f-62ad182338ec",
   "metadata": {},
   "outputs": [],
   "source": [
    "import Base: show, summary\n",
    "show(io::IO, x::ScalarOperator{F}) where {F} = print(io, \"op \", x.name, \"(\", F, \")\");\n",
    "show(io::IO, x::ScalarOperator{F}) where {F} = print(io, \"op \", x.name, \"(\", F, \")\");\n",
    "show(io::IO, x::BroadcastedOperator{F}) where {F} = print(io, \"op.\", x.name, \"(\", F, \")\");\n",
    "show(io::IO, x::Constant) = print(io, \"const \", x.output)\n",
    "show(io::IO, x::Variable) = begin\n",
    "    print(io, \"var \", x.name);\n",
    "    print(io, \"\\n ┣━ ^ \"); summary(io, x.output)\n",
    "    print(io, \"\\n ┗━ ∇ \");  summary(io, x.gradient)\n",
    "end"
   ]
  },
  {
   "cell_type": "markdown",
   "id": "0e7af14b-c8a5-48b0-9169-b8b19aaf2bfa",
   "metadata": {},
   "source": [
    "# Graph building"
   ]
  },
  {
   "cell_type": "code",
   "execution_count": null,
   "id": "a37fb089-42bb-4257-851d-995a77fc946b",
   "metadata": {},
   "outputs": [],
   "source": [
    "function visit(node::GraphNode, visited, order)\n",
    "    if node ∉ visited\n",
    "        push!(visited, node)\n",
    "        push!(order, node)\n",
    "    end\n",
    "    return nothing\n",
    "end\n",
    "\n",
    "function visit(node::Operator, visited, order)\n",
    "    if node ∉ visited\n",
    "        push!(visited, node)\n",
    "        for input in node.inputs\n",
    "            visit(input, visited, order)\n",
    "        end\n",
    "        push!(order, node)\n",
    "    end\n",
    "    return nothing\n",
    "end\n",
    "\n",
    "function topological_sort(head::GraphNode)\n",
    "    visited = Set()\n",
    "    order = Vector()\n",
    "    visit(head, visited, order)\n",
    "    return order\n",
    "end"
   ]
  },
  {
   "cell_type": "markdown",
   "id": "5eabaffc-f3f7-416d-913b-4be4ea052f76",
   "metadata": {},
   "source": [
    "# Forward pass "
   ]
  },
  {
   "cell_type": "code",
   "execution_count": null,
   "id": "8cd1a260-30fc-4e71-a32f-49d38f3840e5",
   "metadata": {},
   "outputs": [],
   "source": [
    "reset!(node::Constant) = nothing\n",
    "reset!(node::Variable) = node.gradient = nothing\n",
    "reset!(node::Operator) = node.gradient = nothing\n",
    "\n",
    "compute!(node::Constant) = nothing\n",
    "compute!(node::Variable) = nothing\n",
    "compute!(node::Operator) =\n",
    "    node.output = forward(node, [input.output for input in node.inputs]...)\n",
    "\n",
    "function forward!(order::Vector)\n",
    "    for node in order\n",
    "        #println(\"forward!:\",node) #TO_REM\n",
    "        compute!(node)\n",
    "        reset!(node)\n",
    "    end\n",
    "    return last(order).output\n",
    "end"
   ]
  },
  {
   "cell_type": "markdown",
   "id": "73691bd6-4ee6-409e-ae89-24cb0c67a822",
   "metadata": {},
   "source": [
    "# Backward pass"
   ]
  },
  {
   "cell_type": "code",
   "execution_count": null,
   "id": "508abd35-abe3-43ca-bb54-55c3c30d6201",
   "metadata": {},
   "outputs": [],
   "source": [
    "update!(node::Constant, gradient) = nothing\n",
    "update!(node::GraphNode, gradient) = \n",
    "    if isnothing(node.gradient)\n",
    "        node.gradient = gradient \n",
    "    else\n",
    "        node.gradient .+= gradient\n",
    "    end\n",
    "\n",
    "function backward!(order::Vector; seed=1.0)\n",
    "    result = last(order)\n",
    "    result.gradient = seed\n",
    "    @assert length(result.output) == 1 \"Gradient is defined only for scalar functions\"\n",
    "    for node in reverse(order)\n",
    "        #println(\"backward!vector - node:\", node) #TO_REM\n",
    "        backward!(node)\n",
    "    end\n",
    "    return nothing\n",
    "end\n",
    "\n",
    "function backward!(node::Constant) end\n",
    "function backward!(node::Variable) end\n",
    "function backward!(node::Operator)\n",
    "    #println(\"backward!operator - node:\", node) #TO_REM\n",
    "    inputs = node.inputs\n",
    "    #println(\"inputs type:\", typeof(inputs)) #TO_REM\n",
    "    gradients = backward(node, [input.output for input in inputs]..., node.gradient)\n",
    "    for (input, gradient) in zip(inputs, gradients)\n",
    "        update!(input, gradient)\n",
    "    end\n",
    "    return nothing\n",
    "end"
   ]
  },
  {
   "cell_type": "markdown",
   "id": "bb938ec3-a00f-4399-b3e3-d121947ee782",
   "metadata": {},
   "source": [
    "# Implemented operations"
   ]
  },
  {
   "cell_type": "markdown",
   "id": "6940f03e-bc60-44dd-8281-f24c54c06c3b",
   "metadata": {},
   "source": [
    "## Scalar operators"
   ]
  },
  {
   "cell_type": "code",
   "execution_count": null,
   "id": "95cf3da5-4516-4da0-b11f-2f83ccbbf95f",
   "metadata": {},
   "outputs": [],
   "source": [
    "import Base:^\n",
    "^(x::GraphNode, n::GraphNode) = ScalarOperator(^, x, n)\n",
    "forward(::ScalarOperator{typeof(^)}, x, n) = x^n\n",
    "backward(::ScalarOperator{typeof(^)}, x, n, g) = \n",
    "    let\n",
    "        g * n * x^(n-1),\n",
    "        g * log(abs(x)) * x^n\n",
    "    end\n",
    "    "
   ]
  },
  {
   "cell_type": "code",
   "execution_count": null,
   "id": "91349633-4a52-498b-9d7b-a2000b27cd8c",
   "metadata": {},
   "outputs": [],
   "source": [
    "import Base: sin\n",
    "sin(x::GraphNode) = ScalarOperator(sin, x)\n",
    "forward(::ScalarOperator{typeof(sin)}, x) = sin(x)\n",
    "backward(::ScalarOperator{typeof(sin)}, x, g) = tuple(g * cos(x))"
   ]
  },
  {
   "cell_type": "markdown",
   "id": "9ba247dd-220c-4f9c-9012-1658bd67454a",
   "metadata": {},
   "source": [
    "## Broadcasted operators"
   ]
  },
  {
   "cell_type": "code",
   "execution_count": null,
   "id": "92982ddb-9c13-4e66-a032-7d37902e1dad",
   "metadata": {},
   "outputs": [],
   "source": [
    "import Base: *\n",
    "import LinearAlgebra: mul!\n",
    "# x * y (aka matrix multiplication)\n",
    "*(A::GraphNode, x::GraphNode) = BroadcastedOperator(mul!, A, x)\n",
    "forward(::BroadcastedOperator{typeof(mul!)}, A, x) = A * x\n",
    "backward(::BroadcastedOperator{typeof(mul!)}, A, x, g) = tuple(g * x', A' * g)\n",
    "\n",
    "# x .* y (element-wise multiplication)\n",
    "Base.Broadcast.broadcasted(*, x::GraphNode, y::GraphNode) = BroadcastedOperator(*, x, y)\n",
    "forward(::BroadcastedOperator{typeof(*)}, x, y) = x .* y\n",
    "backward(node::BroadcastedOperator{typeof(*)}, x, y, g) =\n",
    "    let\n",
    "        𝟏 = ones(length(node.output))\n",
    "        Jx = diagm(y .* 𝟏)\n",
    "        Jy = diagm(x .* 𝟏)\n",
    "        tuple(Jx' * g, Jy' * g)\n",
    "    end"
   ]
  },
  {
   "cell_type": "code",
   "execution_count": null,
   "id": "2c2705dc-60e2-47bc-804e-e133618b2994",
   "metadata": {},
   "outputs": [],
   "source": [
    "Base.Broadcast.broadcasted(-, x::GraphNode, y::GraphNode) = \n",
    "    BroadcastedOperator(-, x, y)\n",
    "forward(::BroadcastedOperator{typeof(-)}, x, y) = x.- y\n",
    "backward(::BroadcastedOperator{typeof(-)}, x, y, g) = tuple(g, -g)"
   ]
  },
  {
   "cell_type": "code",
   "execution_count": null,
   "id": "835818ac-2ed7-46c1-ab7b-41e3fe347a4e",
   "metadata": {},
   "outputs": [],
   "source": [
    "Base.Broadcast.broadcasted(+, x::GraphNode, y::GraphNode) = \n",
    "    BroadcastedOperator(+, x, y)\n",
    "forward(::BroadcastedOperator{typeof(+)}, x, y) = x .+ y\n",
    "backward(::BroadcastedOperator{typeof(+)}, x, y, g) = tuple(g, g)"
   ]
  },
  {
   "cell_type": "code",
   "execution_count": null,
   "id": "b473b204-9071-4203-95af-3fd7c7e41ca1",
   "metadata": {},
   "outputs": [],
   "source": [
    "import Base: sum\n",
    "sum(x::GraphNode) = BroadcastedOperator(sum, x)\n",
    "forward(::BroadcastedOperator{typeof(sum)}, x) = sum(x)\n",
    "backward(::BroadcastedOperator{typeof(sum)}, x, g) = \n",
    "    let\n",
    "        𝟏 = ones(length(x))\n",
    "        J = 𝟏'\n",
    "        tuple(J' * g)\n",
    "    end"
   ]
  },
  {
   "cell_type": "code",
   "execution_count": null,
   "id": "d82d65d3-2d5b-4ae6-b2b1-e3fb67687419",
   "metadata": {},
   "outputs": [],
   "source": [
    "Base.Broadcast.broadcasted(/, x::GraphNode, y::GraphNode) =\n",
    "    BroadcastedOperator(/, x, y)\n",
    "forward(::BroadcastedOperator{typeof(/)}, x, y) = x ./ y\n",
    "backward(node::BroadcastedOperator{typeof(/)}, x, y::Real, g) = \n",
    "    let\n",
    "        𝟏 = ones(length(node.output))\n",
    "        Jx = diagm(𝟏 ./ y)\n",
    "        Jy = (-x ./ y .^2)\n",
    "        tuple(Jx' * g, Jy' * g)\n",
    "    end"
   ]
  },
  {
   "cell_type": "code",
   "execution_count": null,
   "id": "14e73a74-0c66-47cf-b062-6db1d9561609",
   "metadata": {},
   "outputs": [],
   "source": [
    "import Base: max\n",
    "Base.Broadcast.broadcasted(max, x::GraphNode, y::GraphNode) = \n",
    "    BroadcastedOperator(max, x, y)\n",
    "forward(::BroadcastedOperator{typeof(max)}, x, y) = max.(x, y)\n",
    "backward(::BroadcastedOperator{typeof(max)}, x, y, g) = \n",
    "    let\n",
    "        Jx = diagm(isless.(y, x))\n",
    "        Jy = diagm(isless.(x, y))\n",
    "        tuple(Jx' * g, Jy' * g)\n",
    "    end"
   ]
  },
  {
   "cell_type": "code",
   "execution_count": null,
   "id": "c55b8a63-47f9-44b3-8a61-9ac98462d9ba",
   "metadata": {},
   "outputs": [],
   "source": [
    "σ(x) = BroadcastedOperator(σ, x)\n",
    "forward(::BroadcastedOperator{typeof(σ)}, x) = 1.0 ./ (1.0 .+ exp.(-x))\n",
    "backward(node::BroadcastedOperator{typeof(σ)}, x, g) = \n",
    "    let\n",
    "        y = node.output\n",
    "        𝟏 = ones(length(y))\n",
    "        J = diagm(y .* (1.0 .- y))\n",
    "        tuple(J' * g)\n",
    "    end\n",
    "\n",
    "Base.Broadcast.broadcasted(^, x::GraphNode, y::GraphNode) = \n",
    "    BroadcastedOperator(^, x, y)\n",
    "forward(::BroadcastedOperator{typeof(^)}, x, y) = \n",
    "    x .^ y\n",
    "backward(node::BroadcastedOperator{typeof(^)}, x, y, g) = \n",
    "    let\n",
    "        𝟏 = ones(length(node.output))\n",
    "        Jx = diagm(y .* x .^ (y .- 1.0))\n",
    "        Jy = diagm(log.(abs.(x)) .* x .^ y)\n",
    "        tuple(Jx' * g, Jy' * g)\n",
    "    end\n",
    "\n",
    "Base.Broadcast.broadcasted(exp, x::GraphNode) = \n",
    "    BroadcastedOperator(exp, x)\n",
    "forward(::BroadcastedOperator{typeof(exp)}, x) = \n",
    "    exp.(x)\n",
    "backward(node::BroadcastedOperator{typeof(exp)}, x, g) = \n",
    "    let\n",
    "        y = node.output\n",
    "        J = diagm(y)\n",
    "        tuple(J' * g)\n",
    "    end\n",
    "\n",
    "Base.Broadcast.broadcasted(log, x::GraphNode) = \n",
    "    BroadcastedOperator(log, x)\n",
    "forward(::BroadcastedOperator{typeof(log)}, x) = \n",
    "    log.(x)\n",
    "backward(::BroadcastedOperator{typeof(log)}, x, g) = \n",
    "    tuple(diagm(1.0 ./ x)' * g)"
   ]
  },
  {
   "cell_type": "markdown",
   "id": "c04c4eae-0215-40ca-8fb5-ccfddda97a28",
   "metadata": {},
   "source": [
    "# TODO INCLUDE OTHER RULES"
   ]
  },
  {
   "cell_type": "markdown",
   "id": "0de6c2fa-bc8a-46f2-bb92-99334108d45d",
   "metadata": {},
   "source": [
    "# Testing"
   ]
  },
  {
   "cell_type": "code",
   "execution_count": null,
   "id": "f5b7f7fe-e521-4c47-9c87-6191e2da2039",
   "metadata": {},
   "outputs": [],
   "source": [
    "x = Variable(5.0, name=\"x\")\n",
    "two = Constant(2.0)\n",
    "squared = x^two\n",
    "sine = sin(squared)\n",
    "\n",
    "order = topological_sort(sine)"
   ]
  },
  {
   "cell_type": "code",
   "execution_count": null,
   "id": "4b726cda-b4dd-43fa-897e-97e87660265c",
   "metadata": {},
   "outputs": [],
   "source": [
    "y = forward!(order)"
   ]
  },
  {
   "cell_type": "code",
   "execution_count": null,
   "id": "38d2a84e-0b23-4a6e-af7b-700099ad57a3",
   "metadata": {},
   "outputs": [],
   "source": [
    "# TEST\n",
    "typeof(order)"
   ]
  },
  {
   "cell_type": "code",
   "execution_count": null,
   "id": "aac24609-ad41-4de2-9b4f-71b114b930cf",
   "metadata": {},
   "outputs": [],
   "source": [
    "backward!(order)"
   ]
  },
  {
   "cell_type": "code",
   "execution_count": null,
   "id": "ae3edd41-77de-4dc6-9d14-9e45967272b4",
   "metadata": {},
   "outputs": [],
   "source": [
    "x.gradient"
   ]
  },
  {
   "cell_type": "markdown",
   "id": "e38b0e6b-e1e6-418f-95f4-2aa6b8b6abf6",
   "metadata": {},
   "source": [
    "# Mini Multilayer-Percepton"
   ]
  },
  {
   "cell_type": "code",
   "execution_count": null,
   "id": "f34896ef-4981-4c94-a2be-cdf55b50e7f9",
   "metadata": {},
   "outputs": [],
   "source": [
    "using LinearAlgebra"
   ]
  },
  {
   "cell_type": "code",
   "execution_count": null,
   "id": "d421c6c7-3b58-4316-8fac-3bbca214a964",
   "metadata": {},
   "outputs": [],
   "source": [
    "Wh  = Variable(randn(10,2), name=\"wh\")\n",
    "Wo  = Variable(randn(1,10), name=\"wo\")\n",
    "x = Variable([1.98, 4.434], name=\"x\")\n",
    "y = Variable([0.064], name=\"y\")\n",
    "losses = Float64[]\n",
    "\n",
    "function dense(w, b, x, activation) return activation(w * x .+ b) end\n",
    "function dense(w, x, activation) return activation(w * x) end\n",
    "function dense(w, x) return w * x end\n",
    "\n",
    "function mean_squared_loss(y, ŷ)\n",
    "    return Constant(0.5) .* (y .- ŷ) .^ Constant(2)\n",
    "end\n",
    "\n",
    "function net(x, wh, wo, y)\n",
    "    x̂ = dense(wh, x, σ)\n",
    "    x̂.name = \"x̂\"\n",
    "    ŷ = dense(wo, x̂)\n",
    "    ŷ.name = \"ŷ\"\n",
    "    E = mean_squared_loss(y, ŷ)\n",
    "    E.name = \"loss\"\n",
    "\n",
    "    return topological_sort(E)\n",
    "end\n",
    "graph = net(x, Wh, Wo, y)\n",
    "forward!(graph)\n",
    "backward!(graph)\n",
    "\n",
    "for (i,n) in enumerate(graph)\n",
    "    print(i, \". \"); println(n)\n",
    "end"
   ]
  },
  {
   "cell_type": "markdown",
   "id": "83fc1e73-6979-456b-9cf4-d09e2518d9b6",
   "metadata": {},
   "source": [
    "### Manual derivatives for comparison"
   ]
  },
  {
   "cell_type": "code",
   "execution_count": null,
   "id": "5006b041-34f7-4965-adb6-28f445c7a0bc",
   "metadata": {},
   "outputs": [],
   "source": [
    "eye(n) = diagm(ones(n))\n",
    "Eŷ  = graph[8].output - y.output #ŷ\n",
    "ŷȳ  = graph[8].output |> length |> eye #ŷ\n",
    "ȳWo = graph[7].output |> transpose #x̂\n",
    "x̄Wh = graph[5].output |> transpose #x\n",
    "ȳx̂  = graph[3].output |> transpose #Wo\n",
    "x̂x̄  = graph[7].output .* (1.0 .- graph[7].output) |> diagm #x̂\n",
    "Eȳ  = ŷȳ * Eŷ\n",
    "Ex̂  = ȳx̂ * Eȳ\n",
    "Ex̄  = x̂x̄ * Ex̂\n",
    "EWo = Eȳ * ȳWo\n",
    "EWh = Ex̄ * x̄Wh\n",
    "nothing"
   ]
  },
  {
   "cell_type": "code",
   "execution_count": null,
   "id": "acaaec12-a873-49c4-a0d5-e8e751bab0e2",
   "metadata": {},
   "outputs": [],
   "source": [
    "EWh"
   ]
  },
  {
   "cell_type": "code",
   "execution_count": null,
   "id": "ced1bdcd-d459-4005-8220-9c9eddb7604c",
   "metadata": {},
   "outputs": [],
   "source": [
    "Wh.gradient"
   ]
  },
  {
   "cell_type": "code",
   "execution_count": null,
   "id": "a09e4b73-a388-428a-9261-e0fa0e70e5b8",
   "metadata": {},
   "outputs": [],
   "source": [
    "for epoch in 1:10\n",
    "    currentloss = forward!(graph)\n",
    "    backward!(graph)\n",
    "    Wh.output -= 0.01Wh.gradient\n",
    "    Wo.output -= 0.01Wo.gradient\n",
    "    println(\"Current loss: \", currentloss)\n",
    "    push!(losses, first(currentloss))\n",
    "end"
   ]
  },
  {
   "cell_type": "code",
   "execution_count": null,
   "id": "202f1584-b5ee-40df-8fe8-b8f1c7e76b76",
   "metadata": {},
   "outputs": [],
   "source": [
    "x.gradient"
   ]
  },
  {
   "cell_type": "code",
   "execution_count": null,
   "id": "c67ee09d-f5c8-4932-a8c1-c8b24177dde2",
   "metadata": {},
   "outputs": [],
   "source": [
    "using PyPlot\n",
    "semilogy(losses, \".\")\n",
    "xlabel(\"epoch\")\n",
    "ylabel(\"loss\")\n",
    "grid()"
   ]
  },
  {
   "cell_type": "code",
   "execution_count": null,
   "id": "12d5b5d2-16ca-4e94-9922-af77f265d451",
   "metadata": {},
   "outputs": [],
   "source": []
  }
 ],
 "metadata": {
  "kernelspec": {
   "display_name": "Julia 1.11.3",
   "language": "julia",
   "name": "julia-1.11"
  },
  "language_info": {
   "file_extension": ".jl",
   "mimetype": "application/julia",
   "name": "julia",
   "version": "1.11.5"
  }
 },
 "nbformat": 4,
 "nbformat_minor": 5
}
