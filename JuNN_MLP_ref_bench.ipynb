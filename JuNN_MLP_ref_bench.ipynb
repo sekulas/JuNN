{
 "cells": [
  {
   "cell_type": "code",
   "execution_count": 1,
   "id": "0f7e1d37-bcc7-4ab8-ae77-04b2139720f4",
   "metadata": {},
   "outputs": [],
   "source": [
    "include(\"./src/structs.jl\")\n",
    "include(\"./src/scalar_operators.jl\")\n",
    "include(\"./src/broadcast_operators.jl\")\n",
    "include(\"./src/graph.jl\")\n",
    "include(\"./src/forward.jl\")\n",
    "include(\"./src/backward.jl\")\n",
    "include(\"./src/data_loader.jl\")\n",
    "include(\"./src/nn_model.jl\")\n",
    "include(\"./src/optimisers.jl\")\n",
    "include(\"./src/losses.jl\")\n",
    "include(\"./src/layers.jl\")\n",
    "nothing"
   ]
  },
  {
   "cell_type": "code",
   "execution_count": 23,
   "id": "20ac3a91",
   "metadata": {},
   "outputs": [],
   "source": [
    "using Printf, Random, BenchmarkTools\n",
    "using JLD2\n",
    "Random.seed!(0)\n",
    "nothing"
   ]
  },
  {
   "cell_type": "code",
   "execution_count": 71,
   "id": "58b425cc-e1bf-411a-8ece-126481e68c8f",
   "metadata": {},
   "outputs": [
    {
     "name": "stdout",
     "output_type": "stream",
     "text": [
      "Data loaded successfully.\n",
      "X_train size: (17703, 32)\n",
      "y_train size: (1, 32)\n"
     ]
    }
   ],
   "source": [
    "X_train = load(\"./data/imdb_dataset_prepared.jld2\", \"X_train\")\n",
    "y_train = load(\"./data/imdb_dataset_prepared.jld2\", \"y_train\")\n",
    "\n",
    "println(\"Data loaded successfully.\")\n",
    "\n",
    "X_train = Float32.(X_train[:,1:32])\n",
    "y_train = Float32.(y_train[:,1:32])\n",
    "\n",
    "println(\"X_train size: \", size(X_train))\n",
    "println(\"y_train size: \", size(y_train))\n",
    "\n",
    "nothing"
   ]
  },
  {
   "cell_type": "code",
   "execution_count": 73,
   "id": "3832bdcc-1d8c-4b5b-afaa-835d03680e4c",
   "metadata": {},
   "outputs": [],
   "source": [
    "batch_size = 32\n",
    "\n",
    "dataset = DataLoader((X_train, y_train), batchsize=batch_size, shuffle=false)\n",
    "nothing"
   ]
  },
  {
   "cell_type": "code",
   "execution_count": 74,
   "id": "b7e0a0fd-f0f8-4398-9df2-812b99239ddf",
   "metadata": {},
   "outputs": [],
   "source": [
    "input_size = size(X_train, 1)\n",
    "\n",
    "model = Chain(\n",
    "    Dense((input_size => 32), ReLU, name=\"hidden_layer\"),\n",
    "    Dense((32 => 1), σ, name=\"output_layer\")\n",
    ")\n",
    "nothing"
   ]
  },
  {
   "cell_type": "code",
   "execution_count": 75,
   "id": "b58018fc-07d8-4918-bfd3-87859ac69b91",
   "metadata": {},
   "outputs": [],
   "source": [
    "function compute_accuracy(actual, pred)\n",
    "    (actual[1] > 0.5f0) == (pred[1] > 0.5f0) ? 1.0f0 : 0.0f0\n",
    "end\n",
    "nothing"
   ]
  },
  {
   "cell_type": "code",
   "execution_count": 76,
   "id": "2db9b600-56d3-4f4e-b820-19005158c3c2",
   "metadata": {},
   "outputs": [
    {
     "data": {
      "text/plain": [
       "NeuralNetwork(Chain{Tuple{Dense{typeof(ReLU)}, Dense{typeof(σ)}}}((Dense{typeof(ReLU)}(Variable(Float32[-0.016237168 0.013551528 … 0.0016512527 0.015773153; -0.0016466284 -0.014167843 … -0.017014904 -0.017305773; … ; 1.622564f-7 -0.010556478 … -0.0064730546 -0.000620361; -0.0010941322 0.0025816397 … -0.00806352 -0.0125347935], nothing, \"hidden_layer\"), nothing, Main.ReLU), Dense{typeof(σ)}(Variable(Float32[0.15018842 -0.28983086 … -0.41295993 0.27046475], nothing, \"output_layer\"), nothing, Main.σ))), Adam(0.001f0, (0.9f0, 0.999f0), 1.1920929f-7, IdDict{Any, Tuple{Any, Any, Vector{Float32}, Any}}()), Main.binary_cross_entropy, Main.compute_accuracy, Variable(Float32[0.0; 0.0; … ; 0.0; 0.0;;], nothing, \"x_input\"), Variable(Float32[0.0;;], nothing, \"y_true\"), BroadcastedOperator{typeof(σ)}((BroadcastedOperator{typeof(mul!)}((Variable(Float32[0.15018842 -0.28983086 … -0.41295993 0.27046475], nothing, \"output_layer\"), BroadcastedOperator{typeof(ReLU)}((BroadcastedOperator{typeof(mul!)}((Variable(Float32[-0.016237168 0.013551528 … 0.0016512527 0.015773153; -0.0016466284 -0.014167843 … -0.017014904 -0.017305773; … ; 1.622564f-7 -0.010556478 … -0.0064730546 -0.000620361; -0.0010941322 0.0025816397 … -0.00806352 -0.0125347935], nothing, \"hidden_layer\"), Variable(Float32[0.0; 0.0; … ; 0.0; 0.0;;], nothing, \"x_input\")), nothing, nothing, \"?\"),), nothing, nothing, \"?\")), nothing, nothing, \"?\"),), nothing, nothing, \"?\"), GraphNode[Constant{Float32}(-1.0f0), Variable(Float32[0.0;;], nothing, \"y_true\"), BroadcastedOperator{typeof(*)}((Constant{Float32}(-1.0f0), Variable(Float32[0.0;;], nothing, \"y_true\")), nothing, nothing, \"?\"), Variable(Float32[0.15018842 -0.28983086 … -0.41295993 0.27046475], nothing, \"output_layer\"), Variable(Float32[-0.016237168 0.013551528 … 0.0016512527 0.015773153; -0.0016466284 -0.014167843 … -0.017014904 -0.017305773; … ; 1.622564f-7 -0.010556478 … -0.0064730546 -0.000620361; -0.0010941322 0.0025816397 … -0.00806352 -0.0125347935], nothing, \"hidden_layer\"), Variable(Float32[0.0; 0.0; … ; 0.0; 0.0;;], nothing, \"x_input\"), BroadcastedOperator{typeof(mul!)}((Variable(Float32[-0.016237168 0.013551528 … 0.0016512527 0.015773153; -0.0016466284 -0.014167843 … -0.017014904 -0.017305773; … ; 1.622564f-7 -0.010556478 … -0.0064730546 -0.000620361; -0.0010941322 0.0025816397 … -0.00806352 -0.0125347935], nothing, \"hidden_layer\"), Variable(Float32[0.0; 0.0; … ; 0.0; 0.0;;], nothing, \"x_input\")), nothing, nothing, \"?\"), BroadcastedOperator{typeof(ReLU)}((BroadcastedOperator{typeof(mul!)}((Variable(Float32[-0.016237168 0.013551528 … 0.0016512527 0.015773153; -0.0016466284 -0.014167843 … -0.017014904 -0.017305773; … ; 1.622564f-7 -0.010556478 … -0.0064730546 -0.000620361; -0.0010941322 0.0025816397 … -0.00806352 -0.0125347935], nothing, \"hidden_layer\"), Variable(Float32[0.0; 0.0; … ; 0.0; 0.0;;], nothing, \"x_input\")), nothing, nothing, \"?\"),), nothing, nothing, \"?\"), BroadcastedOperator{typeof(mul!)}((Variable(Float32[0.15018842 -0.28983086 … -0.41295993 0.27046475], nothing, \"output_layer\"), BroadcastedOperator{typeof(ReLU)}((BroadcastedOperator{typeof(mul!)}((Variable(Float32[-0.016237168 0.013551528 … 0.0016512527 0.015773153; -0.0016466284 -0.014167843 … -0.017014904 -0.017305773; … ; 1.622564f-7 -0.010556478 … -0.0064730546 -0.000620361; -0.0010941322 0.0025816397 … -0.00806352 -0.0125347935], nothing, \"hidden_layer\"), Variable(Float32[0.0; 0.0; … ; 0.0; 0.0;;], nothing, \"x_input\")), nothing, nothing, \"?\"),), nothing, nothing, \"?\")), nothing, nothing, \"?\"), BroadcastedOperator{typeof(σ)}((BroadcastedOperator{typeof(mul!)}((Variable(Float32[0.15018842 -0.28983086 … -0.41295993 0.27046475], nothing, \"output_layer\"), BroadcastedOperator{typeof(ReLU)}((BroadcastedOperator{typeof(mul!)}((Variable(Float32[-0.016237168 0.013551528 … 0.0016512527 0.015773153; -0.0016466284 -0.014167843 … -0.017014904 -0.017305773; … ; 1.622564f-7 -0.010556478 … -0.0064730546 -0.000620361; -0.0010941322 0.0025816397 … -0.00806352 -0.0125347935], nothing, \"hidden_layer\"), Variable(Float32[0.0; 0.0; … ; 0.0; 0.0;;], nothing, \"x_input\")), nothing, nothing, \"?\"),), nothing, nothing, \"?\")), nothing, nothing, \"?\"),), nothing, nothing, \"?\")  …  BroadcastedOperator{typeof(log)}((BroadcastedOperator{typeof(+)}((BroadcastedOperator{typeof(σ)}((BroadcastedOperator{typeof(mul!)}((Variable(Float32[0.15018842 -0.28983086 … -0.41295993 0.27046475], nothing, \"output_layer\"), BroadcastedOperator{typeof(ReLU)}((BroadcastedOperator{typeof(mul!)}((Variable(Float32[-0.016237168 0.013551528 … 0.0016512527 0.015773153; -0.0016466284 -0.014167843 … -0.017014904 -0.017305773; … ; 1.622564f-7 -0.010556478 … -0.0064730546 -0.000620361; -0.0010941322 0.0025816397 … -0.00806352 -0.0125347935], nothing, \"hidden_layer\"), Variable(Float32[0.0; 0.0; … ; 0.0; 0.0;;], nothing, \"x_input\")), nothing, nothing, \"?\"),), nothing, nothing, \"?\")), nothing, nothing, \"?\"),), nothing, nothing, \"?\"), Constant{Float32}(1.1920929f-7)), nothing, nothing, \"?\"),), nothing, nothing, \"?\"), BroadcastedOperator{typeof(*)}((BroadcastedOperator{typeof(*)}((Constant{Float32}(-1.0f0), Variable(Float32[0.0;;], nothing, \"y_true\")), nothing, nothing, \"?\"), BroadcastedOperator{typeof(log)}((BroadcastedOperator{typeof(+)}((BroadcastedOperator{typeof(σ)}((BroadcastedOperator{typeof(mul!)}((Variable(Float32[0.15018842 -0.28983086 … -0.41295993 0.27046475], nothing, \"output_layer\"), BroadcastedOperator{typeof(ReLU)}((BroadcastedOperator{typeof(mul!)}((Variable(Float32[-0.016237168 0.013551528 … 0.0016512527 0.015773153; -0.0016466284 -0.014167843 … -0.017014904 -0.017305773; … ; 1.622564f-7 -0.010556478 … -0.0064730546 -0.000620361; -0.0010941322 0.0025816397 … -0.00806352 -0.0125347935], nothing, \"hidden_layer\"), Variable(Float32[0.0; 0.0; … ; 0.0; 0.0;;], nothing, \"x_input\")), nothing, nothing, \"?\"),), nothing, nothing, \"?\")), nothing, nothing, \"?\"),), nothing, nothing, \"?\"), Constant{Float32}(1.1920929f-7)), nothing, nothing, \"?\"),), nothing, nothing, \"?\")), nothing, nothing, \"?\"), Constant{Float32}(1.0f0), BroadcastedOperator{typeof(-)}((Constant{Float32}(1.0f0), Variable(Float32[0.0;;], nothing, \"y_true\")), nothing, nothing, \"?\"), BroadcastedOperator{typeof(-)}((Constant{Float32}(1.0f0), BroadcastedOperator{typeof(σ)}((BroadcastedOperator{typeof(mul!)}((Variable(Float32[0.15018842 -0.28983086 … -0.41295993 0.27046475], nothing, \"output_layer\"), BroadcastedOperator{typeof(ReLU)}((BroadcastedOperator{typeof(mul!)}((Variable(Float32[-0.016237168 0.013551528 … 0.0016512527 0.015773153; -0.0016466284 -0.014167843 … -0.017014904 -0.017305773; … ; 1.622564f-7 -0.010556478 … -0.0064730546 -0.000620361; -0.0010941322 0.0025816397 … -0.00806352 -0.0125347935], nothing, \"hidden_layer\"), Variable(Float32[0.0; 0.0; … ; 0.0; 0.0;;], nothing, \"x_input\")), nothing, nothing, \"?\"),), nothing, nothing, \"?\")), nothing, nothing, \"?\"),), nothing, nothing, \"?\")), nothing, nothing, \"?\"), BroadcastedOperator{typeof(+)}((BroadcastedOperator{typeof(-)}((Constant{Float32}(1.0f0), BroadcastedOperator{typeof(σ)}((BroadcastedOperator{typeof(mul!)}((Variable(Float32[0.15018842 -0.28983086 … -0.41295993 0.27046475], nothing, \"output_layer\"), BroadcastedOperator{typeof(ReLU)}((BroadcastedOperator{typeof(mul!)}((Variable(Float32[-0.016237168 0.013551528 … 0.0016512527 0.015773153; -0.0016466284 -0.014167843 … -0.017014904 -0.017305773; … ; 1.622564f-7 -0.010556478 … -0.0064730546 -0.000620361; -0.0010941322 0.0025816397 … -0.00806352 -0.0125347935], nothing, \"hidden_layer\"), Variable(Float32[0.0; 0.0; … ; 0.0; 0.0;;], nothing, \"x_input\")), nothing, nothing, \"?\"),), nothing, nothing, \"?\")), nothing, nothing, \"?\"),), nothing, nothing, \"?\")), nothing, nothing, \"?\"), Constant{Float32}(1.1920929f-7)), nothing, nothing, \"?\"), BroadcastedOperator{typeof(log)}((BroadcastedOperator{typeof(+)}((BroadcastedOperator{typeof(-)}((Constant{Float32}(1.0f0), BroadcastedOperator{typeof(σ)}((BroadcastedOperator{typeof(mul!)}((Variable(Float32[0.15018842 -0.28983086 … -0.41295993 0.27046475], nothing, \"output_layer\"), BroadcastedOperator{typeof(ReLU)}((BroadcastedOperator{typeof(mul!)}((Variable(Float32[-0.016237168 0.013551528 … 0.0016512527 0.015773153; -0.0016466284 -0.014167843 … -0.017014904 -0.017305773; … ; 1.622564f-7 -0.010556478 … -0.0064730546 -0.000620361; -0.0010941322 0.0025816397 … -0.00806352 -0.0125347935], nothing, \"hidden_layer\"), Variable(Float32[0.0; 0.0; … ; 0.0; 0.0;;], nothing, \"x_input\")), nothing, nothing, \"?\"),), nothing, nothing, \"?\")), nothing, nothing, \"?\"),), nothing, nothing, \"?\")), nothing, nothing, \"?\"), Constant{Float32}(1.1920929f-7)), nothing, nothing, \"?\"),), nothing, nothing, \"?\"), BroadcastedOperator{typeof(*)}((BroadcastedOperator{typeof(-)}((Constant{Float32}(1.0f0), Variable(Float32[0.0;;], nothing, \"y_true\")), nothing, nothing, \"?\"), BroadcastedOperator{typeof(log)}((BroadcastedOperator{typeof(+)}((BroadcastedOperator{typeof(-)}((Constant{Float32}(1.0f0), BroadcastedOperator{typeof(σ)}((BroadcastedOperator{typeof(mul!)}((Variable(Float32[0.15018842 -0.28983086 … -0.41295993 0.27046475], nothing, \"output_layer\"), BroadcastedOperator{typeof(ReLU)}((BroadcastedOperator{typeof(mul!)}((Variable(Float32[-0.016237168 0.013551528 … 0.0016512527 0.015773153; -0.0016466284 -0.014167843 … -0.017014904 -0.017305773; … ; 1.622564f-7 -0.010556478 … -0.0064730546 -0.000620361; -0.0010941322 0.0025816397 … -0.00806352 -0.0125347935], nothing, \"hidden_layer\"), Variable(Float32[0.0; 0.0; … ; 0.0; 0.0;;], nothing, \"x_input\")), nothing, nothing, \"?\"),), nothing, nothing, \"?\")), nothing, nothing, \"?\"),), nothing, nothing, \"?\")), nothing, nothing, \"?\"), Constant{Float32}(1.1920929f-7)), nothing, nothing, \"?\"),), nothing, nothing, \"?\")), nothing, nothing, \"?\"), BroadcastedOperator{typeof(-)}((BroadcastedOperator{typeof(*)}((BroadcastedOperator{typeof(*)}((Constant{Float32}(-1.0f0), Variable(Float32[0.0;;], nothing, \"y_true\")), nothing, nothing, \"?\"), BroadcastedOperator{typeof(log)}((BroadcastedOperator{typeof(+)}((BroadcastedOperator{typeof(σ)}((BroadcastedOperator{typeof(mul!)}((Variable(Float32[0.15018842 -0.28983086 … -0.41295993 0.27046475], nothing, \"output_layer\"), BroadcastedOperator{typeof(ReLU)}((BroadcastedOperator{typeof(mul!)}((Variable(Float32[-0.016237168 0.013551528 … 0.0016512527 0.015773153; -0.0016466284 -0.014167843 … -0.017014904 -0.017305773; … ; 1.622564f-7 -0.010556478 … -0.0064730546 -0.000620361; -0.0010941322 0.0025816397 … -0.00806352 -0.0125347935], nothing, \"hidden_layer\"), Variable(Float32[0.0; 0.0; … ; 0.0; 0.0;;], nothing, \"x_input\")), nothing, nothing, \"?\"),), nothing, nothing, \"?\")), nothing, nothing, \"?\"),), nothing, nothing, \"?\"), Constant{Float32}(1.1920929f-7)), nothing, nothing, \"?\"),), nothing, nothing, \"?\")), nothing, nothing, \"?\"), BroadcastedOperator{typeof(*)}((BroadcastedOperator{typeof(-)}((Constant{Float32}(1.0f0), Variable(Float32[0.0;;], nothing, \"y_true\")), nothing, nothing, \"?\"), BroadcastedOperator{typeof(log)}((BroadcastedOperator{typeof(+)}((BroadcastedOperator{typeof(-)}((Constant{Float32}(1.0f0), BroadcastedOperator{typeof(σ)}((BroadcastedOperator{typeof(mul!)}((Variable(Float32[0.15018842 -0.28983086 … -0.41295993 0.27046475], nothing, \"output_layer\"), BroadcastedOperator{typeof(ReLU)}((BroadcastedOperator{typeof(mul!)}((Variable(Float32[-0.016237168 0.013551528 … 0.0016512527 0.015773153; -0.0016466284 -0.014167843 … -0.017014904 -0.017305773; … ; 1.622564f-7 -0.010556478 … -0.0064730546 -0.000620361; -0.0010941322 0.0025816397 … -0.00806352 -0.0125347935], nothing, \"hidden_layer\"), Variable(Float32[0.0; 0.0; … ; 0.0; 0.0;;], nothing, \"x_input\")), nothing, nothing, \"?\"),), nothing, nothing, \"?\")), nothing, nothing, \"?\"),), nothing, nothing, \"?\")), nothing, nothing, \"?\"), Constant{Float32}(1.1920929f-7)), nothing, nothing, \"?\"),), nothing, nothing, \"?\")), nothing, nothing, \"?\")), nothing, nothing, \"?\"), BroadcastedOperator{typeof(mean)}((BroadcastedOperator{typeof(-)}((BroadcastedOperator{typeof(*)}((BroadcastedOperator{typeof(*)}((Constant{Float32}(-1.0f0), Variable(Float32[0.0;;], nothing, \"y_true\")), nothing, nothing, \"?\"), BroadcastedOperator{typeof(log)}((BroadcastedOperator{typeof(+)}((BroadcastedOperator{typeof(σ)}((BroadcastedOperator{typeof(mul!)}((Variable(Float32[0.15018842 -0.28983086 … -0.41295993 0.27046475], nothing, \"output_layer\"), BroadcastedOperator{typeof(ReLU)}((BroadcastedOperator{typeof(mul!)}((Variable(Float32[-0.016237168 0.013551528 … 0.0016512527 0.015773153; -0.0016466284 -0.014167843 … -0.017014904 -0.017305773; … ; 1.622564f-7 -0.010556478 … -0.0064730546 -0.000620361; -0.0010941322 0.0025816397 … -0.00806352 -0.0125347935], nothing, \"hidden_layer\"), Variable(Float32[0.0; 0.0; … ; 0.0; 0.0;;], nothing, \"x_input\")), nothing, nothing, \"?\"),), nothing, nothing, \"?\")), nothing, nothing, \"?\"),), nothing, nothing, \"?\"), Constant{Float32}(1.1920929f-7)), nothing, nothing, \"?\"),), nothing, nothing, \"?\")), nothing, nothing, \"?\"), BroadcastedOperator{typeof(*)}((BroadcastedOperator{typeof(-)}((Constant{Float32}(1.0f0), Variable(Float32[0.0;;], nothing, \"y_true\")), nothing, nothing, \"?\"), BroadcastedOperator{typeof(log)}((BroadcastedOperator{typeof(+)}((BroadcastedOperator{typeof(-)}((Constant{Float32}(1.0f0), BroadcastedOperator{typeof(σ)}((BroadcastedOperator{typeof(mul!)}((Variable(Float32[0.15018842 -0.28983086 … -0.41295993 0.27046475], nothing, \"output_layer\"), BroadcastedOperator{typeof(ReLU)}((BroadcastedOperator{typeof(mul!)}((Variable(Float32[-0.016237168 0.013551528 … 0.0016512527 0.015773153; -0.0016466284 -0.014167843 … -0.017014904 -0.017305773; … ; 1.622564f-7 -0.010556478 … -0.0064730546 -0.000620361; -0.0010941322 0.0025816397 … -0.00806352 -0.0125347935], nothing, \"hidden_layer\"), Variable(Float32[0.0; 0.0; … ; 0.0; 0.0;;], nothing, \"x_input\")), nothing, nothing, \"?\"),), nothing, nothing, \"?\")), nothing, nothing, \"?\"),), nothing, nothing, \"?\")), nothing, nothing, \"?\"), Constant{Float32}(1.1920929f-7)), nothing, nothing, \"?\"),), nothing, nothing, \"?\")), nothing, nothing, \"?\")), nothing, nothing, \"?\"),), nothing, nothing, \"?\")], Variable[Variable(Float32[-0.016237168 0.013551528 … 0.0016512527 0.015773153; -0.0016466284 -0.014167843 … -0.017014904 -0.017305773; … ; 1.622564f-7 -0.010556478 … -0.0064730546 -0.000620361; -0.0010941322 0.0025816397 … -0.00806352 -0.0125347935], nothing, \"hidden_layer\"), Variable(Float32[0.15018842 -0.28983086 … -0.41295993 0.27046475], nothing, \"output_layer\")])"
      ]
     },
     "metadata": {},
     "output_type": "display_data"
    }
   ],
   "source": [
    "net = NeuralNetwork(model, Adam(), binary_cross_entropy, compute_accuracy)"
   ]
  },
  {
   "cell_type": "code",
   "execution_count": 90,
   "id": "cb1a3e77",
   "metadata": {},
   "outputs": [],
   "source": [
    "function gradient!(grads, net, x_batch, y_batch, batch_size)\n",
    "    batch_loss = 0.0f0\n",
    "    batch_acc = 0.0f0\n",
    "\n",
    "    for i in 1:batch_size\n",
    "        x_sample = x_batch[:, i:i]\n",
    "        y_sample = y_batch[:, i:i]\n",
    "        \n",
    "        net.x_node.output .= x_sample\n",
    "        net.y_node.output .= y_sample\n",
    "        \n",
    "        batch_loss += forward!(net.sorted_graph)\n",
    "        batch_acc += net.accuracy(y_sample, net.y_pred_node.output)        \n",
    "\n",
    "        backward!(net.sorted_graph)\n",
    "        \n",
    "        accumulate_gradients!(grads, net.params)\n",
    "    end\n",
    "\n",
    "    for i in 1:length(grads)\n",
    "        grads[i] ./= batch_size\n",
    "    end\n",
    "    \n",
    "    return (batch_loss / batch_size, batch_acc / batch_size) \n",
    "end\n",
    "\n",
    "function accumulate_gradients!(grad_accumulator::Vector, params::Vector)\n",
    "    for (i, param) in enumerate(params)\n",
    "        grad_accumulator[i] .+= param.∇\n",
    "    end\n",
    "end\n",
    "\n",
    "nothing"
   ]
  },
  {
   "cell_type": "markdown",
   "id": "942b3e6b",
   "metadata": {},
   "source": [
    "### init, gradient!, optimize! benchmark "
   ]
  },
  {
   "cell_type": "code",
   "execution_count": 83,
   "id": "d313084f",
   "metadata": {},
   "outputs": [],
   "source": [
    "optimizer = Adam()\n",
    "net = NeuralNetwork(model, optimizer, binary_cross_entropy, compute_accuracy)\n",
    "grads = [zeros(size(p.output)) for p in net.params]\n",
    "\n",
    "nn_init_res = @benchmark NeuralNetwork($model, $optimizer, $binary_cross_entropy, $compute_accuracy) evals=1\n",
    "\n",
    "grads_init_res = @benchmark let params = $net.params\n",
    "    [zeros(size(p.output)) for p in params]\n",
    "end evals=1\n",
    "nothing"
   ]
  },
  {
   "cell_type": "code",
   "execution_count": 84,
   "id": "9efbd6ac",
   "metadata": {},
   "outputs": [
    {
     "name": "stdout",
     "output_type": "stream",
     "text": [
      "NeuralNetwork time (median): 4.15325e-5 seconds\n",
      "Memory allocated: 0.07604 MB\n",
      "Allocations: 135\n",
      "----------------------------------------------------------\n",
      "Gradient array init time (minimum): 0.000239661 seconds\n",
      "Memory allocated: 4.532568 MB\n",
      "Allocations: 11\n"
     ]
    }
   ],
   "source": [
    "println(\"NeuralNetwork time (median): \", median(nn_init_res.times) / 1e9, \" seconds\")\n",
    "println(\"Memory allocated: \", nn_init_res.memory / 1e6, \" MB\")\n",
    "println(\"Allocations: \", nn_init_res.allocs)\n",
    "\n",
    "println(\"----------------------------------------------------------\")\n",
    "\n",
    "println(\"Gradient array init time (minimum): \", minimum(grads_init_res.times) / 1e9, \" seconds\")\n",
    "println(\"Memory allocated: \", grads_init_res.memory / 1e6, \" MB\")\n",
    "println(\"Allocations: \", grads_init_res.allocs)"
   ]
  },
  {
   "cell_type": "code",
   "execution_count": 87,
   "id": "73d31a5b-4baa-4c4b-9989-7cbfb5534cfb",
   "metadata": {},
   "outputs": [],
   "source": [
    "batch_size = dataset.batchsize\n",
    "(x_batch, y_batch) = first(dataset)\n",
    "\n",
    "grad_result = @benchmark gradient!($grads, $net, $x_batch, $y_batch, $batch_size) evals=1\n",
    "opt_result = @benchmark optimize!($net.optimizer, $net.params, $grads) evals=1\n",
    "nothing"
   ]
  },
  {
   "cell_type": "code",
   "execution_count": 89,
   "id": "a32a1ff2",
   "metadata": {},
   "outputs": [
    {
     "name": "stdout",
     "output_type": "stream",
     "text": [
      "Gradient! time (median): 0.242413703 seconds\n",
      "Memory allocated: 302.021424 MB\n",
      "Allocations: 18819\n",
      "----------------------------------------------------------\n",
      "Optimize! time (minimum): 0.006912547 seconds\n",
      "Memory allocated: 0.001408 MB\n",
      "Allocations: 38\n"
     ]
    }
   ],
   "source": [
    "# Example output for grad_result\n",
    "println(\"Gradient! time (median): \", median(grad_result.times) / 1e9, \" seconds\")\n",
    "println(\"Memory allocated: \", grad_result.memory / 1e6, \" MB\")\n",
    "println(\"Allocations: \", grad_result.allocs)\n",
    "\n",
    "println(\"----------------------------------------------------------\")\n",
    "\n",
    "# Example output for opt_result\n",
    "println(\"Optimize! time (minimum): \", minimum(opt_result.times) / 1e9, \" seconds\")\n",
    "println(\"Memory allocated: \", opt_result.memory / 1e6, \" MB\")\n",
    "println(\"Allocations: \", opt_result.allocs)"
   ]
  },
  {
   "cell_type": "markdown",
   "id": "a63c2e72",
   "metadata": {},
   "source": [
    "### deeper gradient! benchmark"
   ]
  },
  {
   "cell_type": "code",
   "execution_count": 102,
   "id": "44a3df04",
   "metadata": {},
   "outputs": [],
   "source": [
    "optimizer = Adam()\n",
    "net = NeuralNetwork(model, optimizer, binary_cross_entropy, compute_accuracy)\n",
    "nothing"
   ]
  },
  {
   "cell_type": "code",
   "execution_count": 100,
   "id": "e4e50101",
   "metadata": {},
   "outputs": [],
   "source": [
    "x_sample = x_batch[:, 1:1]\n",
    "y_sample = y_batch[:, 1:1]\n",
    "\n",
    "net.x_node.output .= x_sample\n",
    "net.y_node.output .= y_sample\n",
    "\n",
    "forward_res = @benchmark forward!(net.sorted_graph) evals=1\n",
    "accuracy_res = @benchmark net.accuracy(y_sample, net.y_pred_node.output) evals=1       \n",
    "\n",
    "backward_res = @benchmark backward!(net.sorted_graph) evals=1\n",
    "\n",
    "accumulate_res = @benchmark accumulate_gradients!(grads, net.params) evals=1\n",
    "\n",
    "nothing"
   ]
  },
  {
   "cell_type": "code",
   "execution_count": 101,
   "id": "5c775842",
   "metadata": {},
   "outputs": [
    {
     "name": "stdout",
     "output_type": "stream",
     "text": [
      "Forward! time (median): 0.0004634 seconds\n",
      "Memory allocated: 0.004352 MB\n",
      "Allocations: 132\n",
      "----------------------------------------------------------\n",
      "Accuracy time (minimum): 1.65e-7 seconds\n",
      "Memory allocated: 1.6e-5 MB\n",
      "Allocations: 1\n",
      "----------------------------------------------------------\n",
      "Backward! time (median): 0.00684859 seconds\n",
      "Memory allocated: 9.363232 MB\n",
      "Allocations: 462\n",
      "----------------------------------------------------------\n",
      "Accumulate gradients time (minimum): 0.000764121 seconds\n",
      "Memory allocated: 6.4e-5 MB\n",
      "Allocations: 2\n"
     ]
    }
   ],
   "source": [
    "println(\"Forward! time (median): \", median(forward_res.times) / 1e9, \" seconds\")\n",
    "println(\"Memory allocated: \", forward_res.memory / 1e6, \" MB\")\n",
    "println(\"Allocations: \", forward_res.allocs)\n",
    "\n",
    "println(\"----------------------------------------------------------\")\n",
    "\n",
    "println(\"Accuracy time (minimum): \", minimum(accuracy_res.times) / 1e9, \" seconds\")\n",
    "println(\"Memory allocated: \", accuracy_res.memory / 1e6, \" MB\")\n",
    "println(\"Allocations: \", accuracy_res.allocs)\n",
    "\n",
    "println(\"----------------------------------------------------------\")\n",
    "\n",
    "println(\"Backward! time (median): \", median(backward_res.times) / 1e9, \" seconds\")\n",
    "println(\"Memory allocated: \", backward_res.memory / 1e6, \" MB\")\n",
    "println(\"Allocations: \", backward_res.allocs)\n",
    "\n",
    "println(\"----------------------------------------------------------\")\n",
    "\n",
    "println(\"Accumulate gradients time (minimum): \", minimum(accumulate_res.times) / 1e9, \" seconds\")\n",
    "println(\"Memory allocated: \", accumulate_res.memory / 1e6, \" MB\")\n",
    "println(\"Allocations: \", accumulate_res.allocs)"
   ]
  },
  {
   "cell_type": "code",
   "execution_count": null,
   "id": "c73e4a4a",
   "metadata": {},
   "outputs": [],
   "source": []
  }
 ],
 "metadata": {
  "kernelspec": {
   "display_name": "Julia 1.11.5",
   "language": "julia",
   "name": "julia-1.11"
  },
  "language_info": {
   "file_extension": ".jl",
   "mimetype": "application/julia",
   "name": "julia",
   "version": "1.11.5"
  }
 },
 "nbformat": 4,
 "nbformat_minor": 5
}
