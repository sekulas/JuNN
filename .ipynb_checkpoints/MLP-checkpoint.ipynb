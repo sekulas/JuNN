{
 "cells": [
  {
   "cell_type": "code",
   "execution_count": 2,
   "id": "15c0cd20-258e-41d8-ad34-0a775fad6fea",
   "metadata": {
    "editable": true,
    "slideshow": {
     "slide_type": ""
    },
    "tags": []
   },
   "outputs": [],
   "source": [
    "abstract type GraphNode end\n",
    "abstract type Operator <: GraphNode end\n",
    "\n",
    "struct Constant{T} <: GraphNode\n",
    "    output :: T\n",
    "end\n",
    "\n",
    "mutable struct Variable <: GraphNode\n",
    "    output :: Any\n",
    "    gradient :: Any\n",
    "    name :: String\n",
    "    Variable(output, gradient, name) = new(output, gradient, name)\n",
    "end\n",
    "Variable(output; name=\"?\") = Variable(output, nothing, name)\n",
    "\n",
    "mutable struct ScalarOperator{F} <: Operator\n",
    "    inputs :: Any\n",
    "    output :: Any\n",
    "    gradient :: Any\n",
    "    name :: String\n",
    "    ScalarOperator(fun, inputs...; name=\"?\") = new{typeof(fun)}(inputs, nothing, nothing, name)\n",
    "end\n",
    "\n",
    "mutable struct BroadcastedOperator{F} <: Operator\n",
    "    inputs :: Any\n",
    "    output :: Any\n",
    "    gradient :: Any\n",
    "    name :: String\n",
    "    BroadcastedOperator(fun, inputs...; name=\"?\") = new{typeof(fun)}(inputs, nothing, nothing, name)\n",
    "end"
   ]
  },
  {
   "cell_type": "markdown",
   "id": "424c1c55-6eb4-491a-b15b-b2382409d60e",
   "metadata": {},
   "source": [
    "# Pretty-printing"
   ]
  },
  {
   "cell_type": "code",
   "execution_count": 3,
   "id": "3fff5232-f6c6-4dae-b41f-62ad182338ec",
   "metadata": {},
   "outputs": [
    {
     "data": {
      "text/plain": [
       "show (generic function with 300 methods)"
      ]
     },
     "execution_count": 3,
     "metadata": {},
     "output_type": "execute_result"
    }
   ],
   "source": [
    "import Base: show, summary\n",
    "show(io::IO, x::ScalarOperator{F}) where {F} = print(io, \"op \", x.name, \"(\", F, \")\");\n",
    "show(io::IO, x::ScalarOperator{F}) where {F} = print(io, \"op \", x.name, \"(\", F, \")\");\n",
    "show(io::IO, x::BroadcastedOperator{F}) where {F} = print(io, \"op.\", x.name, \"(\", F, \")\");\n",
    "show(io::IO, x::Constant) = print(io, \"const \", x.output)\n",
    "show(io::IO, x::Variable) = begin\n",
    "    print(io, \"var \", x.name);\n",
    "    print(io, \"\\n ┣━ ^ \"); summary(io, x.output)\n",
    "    print(io, \"\\n ┗━ ∇ \");  summary(io, x.gradient)\n",
    "end"
   ]
  },
  {
   "cell_type": "markdown",
   "id": "0e7af14b-c8a5-48b0-9169-b8b19aaf2bfa",
   "metadata": {},
   "source": [
    "# Graph building"
   ]
  },
  {
   "cell_type": "code",
   "execution_count": 4,
   "id": "a37fb089-42bb-4257-851d-995a77fc946b",
   "metadata": {},
   "outputs": [
    {
     "data": {
      "text/plain": [
       "topological_sort (generic function with 1 method)"
      ]
     },
     "execution_count": 4,
     "metadata": {},
     "output_type": "execute_result"
    }
   ],
   "source": [
    "function visit(node::GraphNode, visited, order)\n",
    "    if node ∉ visited\n",
    "        push!(visited, node)\n",
    "        push!(order, node)\n",
    "    end\n",
    "    return nothing\n",
    "end\n",
    "\n",
    "function visit(node::Operator, visited, order)\n",
    "    if node ∉ visited\n",
    "        push!(visited, node)\n",
    "        for input in node.inputs\n",
    "            visit(input, visited, order)\n",
    "        end\n",
    "        push!(order, node)\n",
    "    end\n",
    "    return nothing\n",
    "end\n",
    "\n",
    "function topological_sort(head::GraphNode)\n",
    "    visited = Set()\n",
    "    order = Vector()\n",
    "    visit(head, visited, order)\n",
    "    return order\n",
    "end"
   ]
  },
  {
   "cell_type": "markdown",
   "id": "5eabaffc-f3f7-416d-913b-4be4ea052f76",
   "metadata": {},
   "source": [
    "# Forward pass "
   ]
  },
  {
   "cell_type": "code",
   "execution_count": 5,
   "id": "8cd1a260-30fc-4e71-a32f-49d38f3840e5",
   "metadata": {},
   "outputs": [
    {
     "data": {
      "text/plain": [
       "forward! (generic function with 1 method)"
      ]
     },
     "execution_count": 5,
     "metadata": {},
     "output_type": "execute_result"
    }
   ],
   "source": [
    "reset!(node::Constant) = nothing\n",
    "reset!(node::Variable) = node.gradient = nothing\n",
    "reset!(node::Operator) = node.gradient = nothing\n",
    "\n",
    "compute!(node::Constant) = nothing\n",
    "compute!(node::Variable) = nothing\n",
    "compute!(node::Operator) =\n",
    "    node.output = forward(node, [input.output for input in node.inputs]...)\n",
    "\n",
    "function forward!(order::Vector)\n",
    "    for node in order\n",
    "        compute!(node)\n",
    "        reset!(node)\n",
    "    end\n",
    "    return last(order).output\n",
    "end"
   ]
  },
  {
   "cell_type": "markdown",
   "id": "73691bd6-4ee6-409e-ae89-24cb0c67a822",
   "metadata": {},
   "source": [
    "# Backward pass"
   ]
  },
  {
   "cell_type": "code",
   "execution_count": 40,
   "id": "508abd35-abe3-43ca-bb54-55c3c30d6201",
   "metadata": {},
   "outputs": [
    {
     "data": {
      "text/plain": [
       "backward! (generic function with 4 methods)"
      ]
     },
     "execution_count": 40,
     "metadata": {},
     "output_type": "execute_result"
    }
   ],
   "source": [
    "update!(node::Constant, gradient) = nothing\n",
    "update!(node::GraphNode, gradient) = \n",
    "    if isnothing(node.gradient)\n",
    "        node.gradient = gradient \n",
    "    else\n",
    "        node.gradient .+= gradient\n",
    "    end\n",
    "\n",
    "function backward!(order::Vector; seed=1.0)\n",
    "    result = last(order)\n",
    "    result.gradient = seed\n",
    "    @assert length(result.output) == 1 \"Gradient is defined only for scalar functions\"\n",
    "    for node in reverse(order)\n",
    "        println(\"backward!vector - node:\", node) #TO_REM\n",
    "        backward!(node)\n",
    "    end\n",
    "    return nothing\n",
    "end\n",
    "\n",
    "function backward!(node::Constant) end\n",
    "function backward!(node::Variable) end\n",
    "function backward!(node::Operator)\n",
    "    println(\"backward!operator - node:\", node) #TO_REM\n",
    "    inputs = node.inputs\n",
    "    println(\"inputs type:\", typeof(inputs)) #TO_REM\n",
    "    gradients = backward(node, [input.output for input in inputs]..., node.gradient)\n",
    "    for (input, gradient) in zip(inputs, gradients)\n",
    "        update!(input, gradient)\n",
    "    end\n",
    "    return nothing\n",
    "end"
   ]
  },
  {
   "cell_type": "markdown",
   "id": "bb938ec3-a00f-4399-b3e3-d121947ee782",
   "metadata": {},
   "source": [
    "# Implemented operations"
   ]
  },
  {
   "cell_type": "markdown",
   "id": "6940f03e-bc60-44dd-8281-f24c54c06c3b",
   "metadata": {},
   "source": [
    "## Scalar operators"
   ]
  },
  {
   "cell_type": "code",
   "execution_count": 31,
   "id": "95cf3da5-4516-4da0-b11f-2f83ccbbf95f",
   "metadata": {},
   "outputs": [
    {
     "data": {
      "text/plain": [
       "backward (generic function with 9 methods)"
      ]
     },
     "execution_count": 31,
     "metadata": {},
     "output_type": "execute_result"
    }
   ],
   "source": [
    "import Base:^\n",
    "^(x::GraphNode, n::GraphNode) = ScalarOperator(^, x, n)\n",
    "forward(::ScalarOperator{typeof(^)}, x, n) = x.output^n.output\n",
    "backward(::ScalarOperator{typeof(^)}, x, n, g) = \n",
    "    let\n",
    "        x_val = x.output\n",
    "        n_val = n.output\n",
    "        (\n",
    "            g * n_val * x_val^(n_val-1),\n",
    "            g * log(abs(x_val)) * x_val^n_val\n",
    "        )\n",
    "    end\n",
    "    "
   ]
  },
  {
   "cell_type": "code",
   "execution_count": 8,
   "id": "91349633-4a52-498b-9d7b-a2000b27cd8c",
   "metadata": {},
   "outputs": [
    {
     "data": {
      "text/plain": [
       "backward (generic function with 2 methods)"
      ]
     },
     "execution_count": 8,
     "metadata": {},
     "output_type": "execute_result"
    }
   ],
   "source": [
    "import Base: sin\n",
    "sin(x::GraphNode) = ScalarOperator(sin, x)\n",
    "forward(::ScalarOperator{typeof(sin)}, x) = sin(x)\n",
    "backward(::ScalarOperator{typeof(sin)}, x, g) = tuple(g * cos(x))"
   ]
  },
  {
   "cell_type": "markdown",
   "id": "9ba247dd-220c-4f9c-9012-1658bd67454a",
   "metadata": {},
   "source": [
    "## Broadcasted operators"
   ]
  },
  {
   "cell_type": "code",
   "execution_count": 9,
   "id": "92982ddb-9c13-4e66-a032-7d37902e1dad",
   "metadata": {},
   "outputs": [
    {
     "data": {
      "text/plain": [
       "backward (generic function with 4 methods)"
      ]
     },
     "execution_count": 9,
     "metadata": {},
     "output_type": "execute_result"
    }
   ],
   "source": [
    "import Base: *\n",
    "import LinearAlgebra: mul!\n",
    "# x * y (aka matrix multiplication)\n",
    "*(A::GraphNode, x::GraphNode) = BroadcastedOperator(mul!, A, x)\n",
    "forward(::BroadcastedOperator{typeof(mul!)}, A, x) = A * x\n",
    "backward(::BroadcastedOperator{typeof(mul!)}, A, x, g) = tuple(g * x', A' * g)\n",
    "\n",
    "# x .* y (element-wise multiplication)\n",
    "Base.Broadcast.broadcasted(*, x::GraphNode, y::GraphNode) = BroadcastedOperator(*, x, y)\n",
    "forward(::BroadcastedOperator{typeof(*)}, x, y) = x .* y\n",
    "backward(node::BroadcastedOperator{typeof(*)}, x, y, g) =\n",
    "    let\n",
    "        𝟏 = ones(length(node.output))\n",
    "        Jx = diagm(y .* 𝟏)\n",
    "        Jy = diagm(x .* 𝟏)\n",
    "        tuple(Jx' * g, Jy' * g)\n",
    "    end"
   ]
  },
  {
   "cell_type": "code",
   "execution_count": 10,
   "id": "2c2705dc-60e2-47bc-804e-e133618b2994",
   "metadata": {},
   "outputs": [
    {
     "data": {
      "text/plain": [
       "backward (generic function with 5 methods)"
      ]
     },
     "execution_count": 10,
     "metadata": {},
     "output_type": "execute_result"
    }
   ],
   "source": [
    "Base.Broadcast.broadcasted(-, x::GraphNode, y::GraphNode) = \n",
    "    BroadcastedOperator(-, x, y)\n",
    "forward(::BroadcastedOperator{typeof(-)}, x, y) = x.- y\n",
    "backward(::BroadcastedOperator{typeof(-)}, x, y, g) = tuple(g, -g)"
   ]
  },
  {
   "cell_type": "code",
   "execution_count": 11,
   "id": "835818ac-2ed7-46c1-ab7b-41e3fe347a4e",
   "metadata": {},
   "outputs": [
    {
     "data": {
      "text/plain": [
       "backward (generic function with 6 methods)"
      ]
     },
     "execution_count": 11,
     "metadata": {},
     "output_type": "execute_result"
    }
   ],
   "source": [
    "Base.Broadcast.broadcasted(+, x::GraphNode, y::GraphNode) = \n",
    "    BroadcastedOperator(+, x, y)\n",
    "forward(::BroadcastedOperator{typeof(+)}, x, y) = x .+ y\n",
    "backward(::BroadcastedOperator{typeof(+)}, x, y, g) = tuple(g, g)"
   ]
  },
  {
   "cell_type": "code",
   "execution_count": 12,
   "id": "b473b204-9071-4203-95af-3fd7c7e41ca1",
   "metadata": {},
   "outputs": [
    {
     "data": {
      "text/plain": [
       "backward (generic function with 7 methods)"
      ]
     },
     "execution_count": 12,
     "metadata": {},
     "output_type": "execute_result"
    }
   ],
   "source": [
    "import Base: sum\n",
    "sum(x::GraphNode) = BroadcastedOperator(sum, x)\n",
    "forward(::BroadcastedOperator{typeof(sum)}, x) = sum(x)\n",
    "backward(::BroadcastedOperator{typeof(sum)}, x, g) = \n",
    "    let\n",
    "        𝟏 = ones(length(x))\n",
    "        J = 𝟏'\n",
    "        tuple(J' * g)\n",
    "    end"
   ]
  },
  {
   "cell_type": "code",
   "execution_count": 13,
   "id": "d82d65d3-2d5b-4ae6-b2b1-e3fb67687419",
   "metadata": {},
   "outputs": [
    {
     "data": {
      "text/plain": [
       "backward (generic function with 8 methods)"
      ]
     },
     "execution_count": 13,
     "metadata": {},
     "output_type": "execute_result"
    }
   ],
   "source": [
    "Base.Broadcast.broadcasted(/, x::GraphNode, y::GraphNode) =\n",
    "    BroadcastedOperator(/, x, y)\n",
    "forward(::BroadcastedOperator{typeof(/)}, x, y) = x ./ y\n",
    "backward(node::BroadcastedOperator{typeof(/)}, x, y::Real, g) = \n",
    "    let\n",
    "        𝟏 = ones(length(node.output))\n",
    "        Jx = diagm(𝟏 ./ y)\n",
    "        Jy = (-x ./ y .^2)\n",
    "        tuple(Jx' * g, Jy' * g)\n",
    "    end"
   ]
  },
  {
   "cell_type": "code",
   "execution_count": 14,
   "id": "14e73a74-0c66-47cf-b062-6db1d9561609",
   "metadata": {},
   "outputs": [
    {
     "data": {
      "text/plain": [
       "backward (generic function with 9 methods)"
      ]
     },
     "execution_count": 14,
     "metadata": {},
     "output_type": "execute_result"
    }
   ],
   "source": [
    "import Base: max\n",
    "Base.Broadcast.broadcasted(max, x::GraphNode, y::GraphNode) = \n",
    "    BroadcastedOperator(max, x, y)\n",
    "forward(::BroadcastedOperator{typeof(max)}, x, y) = max.(x, y)\n",
    "backward(::BroadcastedOperator{typeof(max)}, x, y, g) = \n",
    "    let\n",
    "        Jx = diagm(isless.(y, x))\n",
    "        Jy = diagm(isless.(x, y))\n",
    "        tuple(Jx' * g, Jy' * g)\n",
    "    end"
   ]
  },
  {
   "cell_type": "markdown",
   "id": "c04c4eae-0215-40ca-8fb5-ccfddda97a28",
   "metadata": {},
   "source": [
    "# TODO INCLUDE OTHER RULES"
   ]
  },
  {
   "cell_type": "markdown",
   "id": "0de6c2fa-bc8a-46f2-bb92-99334108d45d",
   "metadata": {},
   "source": [
    "# Testing"
   ]
  },
  {
   "cell_type": "code",
   "execution_count": 25,
   "id": "f5b7f7fe-e521-4c47-9c87-6191e2da2039",
   "metadata": {},
   "outputs": [
    {
     "data": {
      "text/plain": [
       "4-element Vector{Any}:\n",
       " var x\n",
       " ┣━ ^ Float64\n",
       " ┗━ ∇ Nothing\n",
       " const 2.0\n",
       " op ?(typeof(^))\n",
       " op ?(typeof(sin))"
      ]
     },
     "execution_count": 25,
     "metadata": {},
     "output_type": "execute_result"
    }
   ],
   "source": [
    "x = Variable(5.0, name=\"x\")\n",
    "two = Constant(2.0)\n",
    "squared = x^two\n",
    "sine = sin(squared)\n",
    "\n",
    "order = topological_sort(sine)"
   ]
  },
  {
   "cell_type": "code",
   "execution_count": 26,
   "id": "4b726cda-b4dd-43fa-897e-97e87660265c",
   "metadata": {},
   "outputs": [
    {
     "data": {
      "text/plain": [
       "-0.13235175009777303"
      ]
     },
     "execution_count": 26,
     "metadata": {},
     "output_type": "execute_result"
    }
   ],
   "source": [
    "y = forward!(order)"
   ]
  },
  {
   "cell_type": "code",
   "execution_count": 27,
   "id": "38d2a84e-0b23-4a6e-af7b-700099ad57a3",
   "metadata": {},
   "outputs": [
    {
     "data": {
      "text/plain": [
       "Vector{Any}\u001b[90m (alias for \u001b[39m\u001b[90mArray{Any, 1}\u001b[39m\u001b[90m)\u001b[39m"
      ]
     },
     "execution_count": 27,
     "metadata": {},
     "output_type": "execute_result"
    }
   ],
   "source": [
    "# TEST\n",
    "typeof(order)"
   ]
  },
  {
   "cell_type": "code",
   "execution_count": 41,
   "id": "aac24609-ad41-4de2-9b4f-71b114b930cf",
   "metadata": {},
   "outputs": [
    {
     "name": "stdout",
     "output_type": "stream",
     "text": [
      "backward!vector - node:op ?(typeof(sin))\n",
      "backward!operator - node:op ?(typeof(sin))\n",
      "inputs type:Tuple{ScalarOperator{typeof(^)}}\n",
      "?(typeof(^))tor - node:op \n",
      "backward!operator - node:op ?(typeof(^))\n",
      "inputs type:Tuple{Variable, Constant{Float64}}\n"
     ]
    },
    {
     "ename": "LoadError",
     "evalue": "type Float64 has no field output",
     "output_type": "error",
     "traceback": [
      "type Float64 has no field output",
      "",
      "Stacktrace:",
      " [1] getproperty",
      "   @ ./Base.jl:49 [inlined]",
      " [2] backward(::ScalarOperator{typeof(^)}, x::Float64, n::Float64, g::Float64)",
      "   @ Main ./In[31]:6",
      " [3] backward!(node::ScalarOperator{typeof(^)})",
      "   @ Main ./In[40]:26",
      " [4] backward!(order::Vector{Any}; seed::Float64)",
      "   @ Main ./In[40]:15",
      " [5] backward!(order::Vector{Any})",
      "   @ Main ./In[40]:9",
      " [6] top-level scope",
      "   @ In[41]:1"
     ]
    }
   ],
   "source": [
    "backward!(order)"
   ]
  },
  {
   "cell_type": "code",
   "execution_count": null,
   "id": "ae3edd41-77de-4dc6-9d14-9e45967272b4",
   "metadata": {},
   "outputs": [],
   "source": []
  }
 ],
 "metadata": {
  "kernelspec": {
   "display_name": "Julia 1.11.3",
   "language": "julia",
   "name": "julia-1.11"
  },
  "language_info": {
   "file_extension": ".jl",
   "mimetype": "application/julia",
   "name": "julia",
   "version": "1.11.4"
  }
 },
 "nbformat": 4,
 "nbformat_minor": 5
}
