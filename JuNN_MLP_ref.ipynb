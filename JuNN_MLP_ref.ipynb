{
 "cells": [
  {
   "cell_type": "code",
   "execution_count": 3,
   "id": "0f7e1d37-bcc7-4ab8-ae77-04b2139720f4",
   "metadata": {},
   "outputs": [],
   "source": [
    "include(\"./src/structs.jl\")\n",
    "include(\"./src/scalar_operators.jl\")\n",
    "include(\"./src/broadcast_operators.jl\")\n",
    "include(\"./src/graph.jl\")\n",
    "include(\"./src/forward.jl\")\n",
    "include(\"./src/backward.jl\")\n",
    "include(\"./src/data_loader.jl\")\n",
    "include(\"./src/nn_model.jl\")\n",
    "include(\"./src/optimisers.jl\")\n",
    "include(\"./src/losses.jl\")\n",
    "include(\"./src/layers.jl\")\n",
    "nothing"
   ]
  },
  {
   "cell_type": "code",
   "execution_count": 14,
   "id": "20ac3a91",
   "metadata": {},
   "outputs": [],
   "source": [
    "using Printf, Random\n",
    "using JLD2\n",
    "Random.seed!(0)\n",
    "nothing"
   ]
  },
  {
   "cell_type": "code",
   "execution_count": 7,
   "id": "58b425cc-e1bf-411a-8ece-126481e68c8f",
   "metadata": {},
   "outputs": [
    {
     "name": "stdout",
     "output_type": "stream",
     "text": [
      "Data loaded successfully.\n",
      "X_train size: (17703, 8000)\n",
      "y_train size: (1, 8000)\n",
      "X_test size: (17703, 2000)\n",
      "y_test size: (1, 2000)\n"
     ]
    }
   ],
   "source": [
    "X_train = load(\"./data/imdb_dataset_prepared.jld2\", \"X_train\")\n",
    "y_train = load(\"./data/imdb_dataset_prepared.jld2\", \"y_train\")\n",
    "X_test = load(\"./data/imdb_dataset_prepared.jld2\", \"X_test\")\n",
    "y_test = load(\"./data/imdb_dataset_prepared.jld2\", \"y_test\")\n",
    "\n",
    "println(\"Data loaded successfully.\")\n",
    "println(\"X_train size: \", size(X_train))\n",
    "println(\"y_train size: \", size(y_train))\n",
    "println(\"X_test size: \", size(X_test))\n",
    "println(\"y_test size: \", size(y_test))\n",
    "\n",
    "X_train = Float32.(X_train)\n",
    "y_train = Float32.(y_train)\n",
    "X_test = Float32.(X_test)\n",
    "y_test = Float32.(y_test)\n",
    "nothing"
   ]
  },
  {
   "cell_type": "code",
   "execution_count": 8,
   "id": "3832bdcc-1d8c-4b5b-afaa-835d03680e4c",
   "metadata": {},
   "outputs": [],
   "source": [
    "batch_size = 32\n",
    "\n",
    "dataset = DataLoader((X_train, y_train), batchsize=batch_size, shuffle=true)\n",
    "testset = DataLoader((X_test, y_test), batchsize=batch_size, shuffle=false)\n",
    "nothing"
   ]
  },
  {
   "cell_type": "code",
   "execution_count": 9,
   "id": "b7e0a0fd-f0f8-4398-9df2-812b99239ddf",
   "metadata": {},
   "outputs": [],
   "source": [
    "input_size = size(X_train, 1)\n",
    "\n",
    "model = Chain(\n",
    "    Dense((input_size => 32), ReLU, name=\"hidden_layer\"),\n",
    "    Dense((32 => 1), σ, name=\"output_layer\")\n",
    ")\n",
    "nothing"
   ]
  },
  {
   "cell_type": "code",
   "execution_count": 10,
   "id": "b58018fc-07d8-4918-bfd3-87859ac69b91",
   "metadata": {},
   "outputs": [],
   "source": [
    "function compute_accuracy(pred, actual)\n",
    "    (pred[1] > 0.5f0) == (actual[1] > 0.5f0) ? 1.0f0 : 0.0f0\n",
    "end\n",
    "nothing"
   ]
  },
  {
   "cell_type": "code",
   "execution_count": 11,
   "id": "2db9b600-56d3-4f4e-b820-19005158c3c2",
   "metadata": {},
   "outputs": [
    {
     "data": {
      "text/plain": [
       "NeuralNetwork(Chain{Tuple{Dense{typeof(ReLU)}, Dense{typeof(σ)}}}((Dense{typeof(ReLU)}(Variable(Float32[-0.016237168 0.013551528 … 0.0016512527 0.015773153; -0.0016466284 -0.014167843 … -0.017014904 -0.017305773; … ; 1.622564f-7 -0.010556478 … -0.0064730546 -0.000620361; -0.0010941322 0.0025816397 … -0.00806352 -0.0125347935], nothing, \"hidden_layer\"), nothing, Main.ReLU), Dense{typeof(σ)}(Variable(Float32[0.15018842 -0.28983086 … -0.41295993 0.27046475], nothing, \"output_layer\"), nothing, Main.σ))), Adam(0.001f0, (0.9f0, 0.999f0), 1.1920929f-7, IdDict{Any, Tuple{Any, Any, Vector{Float32}, Any}}()), Main.binary_cross_entropy, Main.compute_accuracy, Variable(Float32[0.0; 0.0; … ; 0.0; 0.0;;], nothing, \"x_input\"), Variable(Float32[0.0;;], nothing, \"y_true\"), BroadcastedOperator{typeof(σ)}((BroadcastedOperator{typeof(mul!)}((Variable(Float32[0.15018842 -0.28983086 … -0.41295993 0.27046475], nothing, \"output_layer\"), BroadcastedOperator{typeof(ReLU)}((BroadcastedOperator{typeof(mul!)}((Variable(Float32[-0.016237168 0.013551528 … 0.0016512527 0.015773153; -0.0016466284 -0.014167843 … -0.017014904 -0.017305773; … ; 1.622564f-7 -0.010556478 … -0.0064730546 -0.000620361; -0.0010941322 0.0025816397 … -0.00806352 -0.0125347935], nothing, \"hidden_layer\"), Variable(Float32[0.0; 0.0; … ; 0.0; 0.0;;], nothing, \"x_input\")), nothing, nothing, \"?\"),), nothing, nothing, \"?\")), nothing, nothing, \"?\"),), nothing, nothing, \"?\"), GraphNode[Constant{Float32}(-1.0f0), Variable(Float32[0.0;;], nothing, \"y_true\"), BroadcastedOperator{typeof(*)}((Constant{Float32}(-1.0f0), Variable(Float32[0.0;;], nothing, \"y_true\")), nothing, nothing, \"?\"), Variable(Float32[0.15018842 -0.28983086 … -0.41295993 0.27046475], nothing, \"output_layer\"), Variable(Float32[-0.016237168 0.013551528 … 0.0016512527 0.015773153; -0.0016466284 -0.014167843 … -0.017014904 -0.017305773; … ; 1.622564f-7 -0.010556478 … -0.0064730546 -0.000620361; -0.0010941322 0.0025816397 … -0.00806352 -0.0125347935], nothing, \"hidden_layer\"), Variable(Float32[0.0; 0.0; … ; 0.0; 0.0;;], nothing, \"x_input\"), BroadcastedOperator{typeof(mul!)}((Variable(Float32[-0.016237168 0.013551528 … 0.0016512527 0.015773153; -0.0016466284 -0.014167843 … -0.017014904 -0.017305773; … ; 1.622564f-7 -0.010556478 … -0.0064730546 -0.000620361; -0.0010941322 0.0025816397 … -0.00806352 -0.0125347935], nothing, \"hidden_layer\"), Variable(Float32[0.0; 0.0; … ; 0.0; 0.0;;], nothing, \"x_input\")), nothing, nothing, \"?\"), BroadcastedOperator{typeof(ReLU)}((BroadcastedOperator{typeof(mul!)}((Variable(Float32[-0.016237168 0.013551528 … 0.0016512527 0.015773153; -0.0016466284 -0.014167843 … -0.017014904 -0.017305773; … ; 1.622564f-7 -0.010556478 … -0.0064730546 -0.000620361; -0.0010941322 0.0025816397 … -0.00806352 -0.0125347935], nothing, \"hidden_layer\"), Variable(Float32[0.0; 0.0; … ; 0.0; 0.0;;], nothing, \"x_input\")), nothing, nothing, \"?\"),), nothing, nothing, \"?\"), BroadcastedOperator{typeof(mul!)}((Variable(Float32[0.15018842 -0.28983086 … -0.41295993 0.27046475], nothing, \"output_layer\"), BroadcastedOperator{typeof(ReLU)}((BroadcastedOperator{typeof(mul!)}((Variable(Float32[-0.016237168 0.013551528 … 0.0016512527 0.015773153; -0.0016466284 -0.014167843 … -0.017014904 -0.017305773; … ; 1.622564f-7 -0.010556478 … -0.0064730546 -0.000620361; -0.0010941322 0.0025816397 … -0.00806352 -0.0125347935], nothing, \"hidden_layer\"), Variable(Float32[0.0; 0.0; … ; 0.0; 0.0;;], nothing, \"x_input\")), nothing, nothing, \"?\"),), nothing, nothing, \"?\")), nothing, nothing, \"?\"), BroadcastedOperator{typeof(σ)}((BroadcastedOperator{typeof(mul!)}((Variable(Float32[0.15018842 -0.28983086 … -0.41295993 0.27046475], nothing, \"output_layer\"), BroadcastedOperator{typeof(ReLU)}((BroadcastedOperator{typeof(mul!)}((Variable(Float32[-0.016237168 0.013551528 … 0.0016512527 0.015773153; -0.0016466284 -0.014167843 … -0.017014904 -0.017305773; … ; 1.622564f-7 -0.010556478 … -0.0064730546 -0.000620361; -0.0010941322 0.0025816397 … -0.00806352 -0.0125347935], nothing, \"hidden_layer\"), Variable(Float32[0.0; 0.0; … ; 0.0; 0.0;;], nothing, \"x_input\")), nothing, nothing, \"?\"),), nothing, nothing, \"?\")), nothing, nothing, \"?\"),), nothing, nothing, \"?\")  …  BroadcastedOperator{typeof(log)}((BroadcastedOperator{typeof(+)}((BroadcastedOperator{typeof(σ)}((BroadcastedOperator{typeof(mul!)}((Variable(Float32[0.15018842 -0.28983086 … -0.41295993 0.27046475], nothing, \"output_layer\"), BroadcastedOperator{typeof(ReLU)}((BroadcastedOperator{typeof(mul!)}((Variable(Float32[-0.016237168 0.013551528 … 0.0016512527 0.015773153; -0.0016466284 -0.014167843 … -0.017014904 -0.017305773; … ; 1.622564f-7 -0.010556478 … -0.0064730546 -0.000620361; -0.0010941322 0.0025816397 … -0.00806352 -0.0125347935], nothing, \"hidden_layer\"), Variable(Float32[0.0; 0.0; … ; 0.0; 0.0;;], nothing, \"x_input\")), nothing, nothing, \"?\"),), nothing, nothing, \"?\")), nothing, nothing, \"?\"),), nothing, nothing, \"?\"), Constant{Float32}(1.1920929f-7)), nothing, nothing, \"?\"),), nothing, nothing, \"?\"), BroadcastedOperator{typeof(*)}((BroadcastedOperator{typeof(*)}((Constant{Float32}(-1.0f0), Variable(Float32[0.0;;], nothing, \"y_true\")), nothing, nothing, \"?\"), BroadcastedOperator{typeof(log)}((BroadcastedOperator{typeof(+)}((BroadcastedOperator{typeof(σ)}((BroadcastedOperator{typeof(mul!)}((Variable(Float32[0.15018842 -0.28983086 … -0.41295993 0.27046475], nothing, \"output_layer\"), BroadcastedOperator{typeof(ReLU)}((BroadcastedOperator{typeof(mul!)}((Variable(Float32[-0.016237168 0.013551528 … 0.0016512527 0.015773153; -0.0016466284 -0.014167843 … -0.017014904 -0.017305773; … ; 1.622564f-7 -0.010556478 … -0.0064730546 -0.000620361; -0.0010941322 0.0025816397 … -0.00806352 -0.0125347935], nothing, \"hidden_layer\"), Variable(Float32[0.0; 0.0; … ; 0.0; 0.0;;], nothing, \"x_input\")), nothing, nothing, \"?\"),), nothing, nothing, \"?\")), nothing, nothing, \"?\"),), nothing, nothing, \"?\"), Constant{Float32}(1.1920929f-7)), nothing, nothing, \"?\"),), nothing, nothing, \"?\")), nothing, nothing, \"?\"), Constant{Float32}(1.0f0), BroadcastedOperator{typeof(-)}((Constant{Float32}(1.0f0), Variable(Float32[0.0;;], nothing, \"y_true\")), nothing, nothing, \"?\"), BroadcastedOperator{typeof(-)}((Constant{Float32}(1.0f0), BroadcastedOperator{typeof(σ)}((BroadcastedOperator{typeof(mul!)}((Variable(Float32[0.15018842 -0.28983086 … -0.41295993 0.27046475], nothing, \"output_layer\"), BroadcastedOperator{typeof(ReLU)}((BroadcastedOperator{typeof(mul!)}((Variable(Float32[-0.016237168 0.013551528 … 0.0016512527 0.015773153; -0.0016466284 -0.014167843 … -0.017014904 -0.017305773; … ; 1.622564f-7 -0.010556478 … -0.0064730546 -0.000620361; -0.0010941322 0.0025816397 … -0.00806352 -0.0125347935], nothing, \"hidden_layer\"), Variable(Float32[0.0; 0.0; … ; 0.0; 0.0;;], nothing, \"x_input\")), nothing, nothing, \"?\"),), nothing, nothing, \"?\")), nothing, nothing, \"?\"),), nothing, nothing, \"?\")), nothing, nothing, \"?\"), BroadcastedOperator{typeof(+)}((BroadcastedOperator{typeof(-)}((Constant{Float32}(1.0f0), BroadcastedOperator{typeof(σ)}((BroadcastedOperator{typeof(mul!)}((Variable(Float32[0.15018842 -0.28983086 … -0.41295993 0.27046475], nothing, \"output_layer\"), BroadcastedOperator{typeof(ReLU)}((BroadcastedOperator{typeof(mul!)}((Variable(Float32[-0.016237168 0.013551528 … 0.0016512527 0.015773153; -0.0016466284 -0.014167843 … -0.017014904 -0.017305773; … ; 1.622564f-7 -0.010556478 … -0.0064730546 -0.000620361; -0.0010941322 0.0025816397 … -0.00806352 -0.0125347935], nothing, \"hidden_layer\"), Variable(Float32[0.0; 0.0; … ; 0.0; 0.0;;], nothing, \"x_input\")), nothing, nothing, \"?\"),), nothing, nothing, \"?\")), nothing, nothing, \"?\"),), nothing, nothing, \"?\")), nothing, nothing, \"?\"), Constant{Float32}(1.1920929f-7)), nothing, nothing, \"?\"), BroadcastedOperator{typeof(log)}((BroadcastedOperator{typeof(+)}((BroadcastedOperator{typeof(-)}((Constant{Float32}(1.0f0), BroadcastedOperator{typeof(σ)}((BroadcastedOperator{typeof(mul!)}((Variable(Float32[0.15018842 -0.28983086 … -0.41295993 0.27046475], nothing, \"output_layer\"), BroadcastedOperator{typeof(ReLU)}((BroadcastedOperator{typeof(mul!)}((Variable(Float32[-0.016237168 0.013551528 … 0.0016512527 0.015773153; -0.0016466284 -0.014167843 … -0.017014904 -0.017305773; … ; 1.622564f-7 -0.010556478 … -0.0064730546 -0.000620361; -0.0010941322 0.0025816397 … -0.00806352 -0.0125347935], nothing, \"hidden_layer\"), Variable(Float32[0.0; 0.0; … ; 0.0; 0.0;;], nothing, \"x_input\")), nothing, nothing, \"?\"),), nothing, nothing, \"?\")), nothing, nothing, \"?\"),), nothing, nothing, \"?\")), nothing, nothing, \"?\"), Constant{Float32}(1.1920929f-7)), nothing, nothing, \"?\"),), nothing, nothing, \"?\"), BroadcastedOperator{typeof(*)}((BroadcastedOperator{typeof(-)}((Constant{Float32}(1.0f0), Variable(Float32[0.0;;], nothing, \"y_true\")), nothing, nothing, \"?\"), BroadcastedOperator{typeof(log)}((BroadcastedOperator{typeof(+)}((BroadcastedOperator{typeof(-)}((Constant{Float32}(1.0f0), BroadcastedOperator{typeof(σ)}((BroadcastedOperator{typeof(mul!)}((Variable(Float32[0.15018842 -0.28983086 … -0.41295993 0.27046475], nothing, \"output_layer\"), BroadcastedOperator{typeof(ReLU)}((BroadcastedOperator{typeof(mul!)}((Variable(Float32[-0.016237168 0.013551528 … 0.0016512527 0.015773153; -0.0016466284 -0.014167843 … -0.017014904 -0.017305773; … ; 1.622564f-7 -0.010556478 … -0.0064730546 -0.000620361; -0.0010941322 0.0025816397 … -0.00806352 -0.0125347935], nothing, \"hidden_layer\"), Variable(Float32[0.0; 0.0; … ; 0.0; 0.0;;], nothing, \"x_input\")), nothing, nothing, \"?\"),), nothing, nothing, \"?\")), nothing, nothing, \"?\"),), nothing, nothing, \"?\")), nothing, nothing, \"?\"), Constant{Float32}(1.1920929f-7)), nothing, nothing, \"?\"),), nothing, nothing, \"?\")), nothing, nothing, \"?\"), BroadcastedOperator{typeof(-)}((BroadcastedOperator{typeof(*)}((BroadcastedOperator{typeof(*)}((Constant{Float32}(-1.0f0), Variable(Float32[0.0;;], nothing, \"y_true\")), nothing, nothing, \"?\"), BroadcastedOperator{typeof(log)}((BroadcastedOperator{typeof(+)}((BroadcastedOperator{typeof(σ)}((BroadcastedOperator{typeof(mul!)}((Variable(Float32[0.15018842 -0.28983086 … -0.41295993 0.27046475], nothing, \"output_layer\"), BroadcastedOperator{typeof(ReLU)}((BroadcastedOperator{typeof(mul!)}((Variable(Float32[-0.016237168 0.013551528 … 0.0016512527 0.015773153; -0.0016466284 -0.014167843 … -0.017014904 -0.017305773; … ; 1.622564f-7 -0.010556478 … -0.0064730546 -0.000620361; -0.0010941322 0.0025816397 … -0.00806352 -0.0125347935], nothing, \"hidden_layer\"), Variable(Float32[0.0; 0.0; … ; 0.0; 0.0;;], nothing, \"x_input\")), nothing, nothing, \"?\"),), nothing, nothing, \"?\")), nothing, nothing, \"?\"),), nothing, nothing, \"?\"), Constant{Float32}(1.1920929f-7)), nothing, nothing, \"?\"),), nothing, nothing, \"?\")), nothing, nothing, \"?\"), BroadcastedOperator{typeof(*)}((BroadcastedOperator{typeof(-)}((Constant{Float32}(1.0f0), Variable(Float32[0.0;;], nothing, \"y_true\")), nothing, nothing, \"?\"), BroadcastedOperator{typeof(log)}((BroadcastedOperator{typeof(+)}((BroadcastedOperator{typeof(-)}((Constant{Float32}(1.0f0), BroadcastedOperator{typeof(σ)}((BroadcastedOperator{typeof(mul!)}((Variable(Float32[0.15018842 -0.28983086 … -0.41295993 0.27046475], nothing, \"output_layer\"), BroadcastedOperator{typeof(ReLU)}((BroadcastedOperator{typeof(mul!)}((Variable(Float32[-0.016237168 0.013551528 … 0.0016512527 0.015773153; -0.0016466284 -0.014167843 … -0.017014904 -0.017305773; … ; 1.622564f-7 -0.010556478 … -0.0064730546 -0.000620361; -0.0010941322 0.0025816397 … -0.00806352 -0.0125347935], nothing, \"hidden_layer\"), Variable(Float32[0.0; 0.0; … ; 0.0; 0.0;;], nothing, \"x_input\")), nothing, nothing, \"?\"),), nothing, nothing, \"?\")), nothing, nothing, \"?\"),), nothing, nothing, \"?\")), nothing, nothing, \"?\"), Constant{Float32}(1.1920929f-7)), nothing, nothing, \"?\"),), nothing, nothing, \"?\")), nothing, nothing, \"?\")), nothing, nothing, \"?\"), BroadcastedOperator{typeof(mean)}((BroadcastedOperator{typeof(-)}((BroadcastedOperator{typeof(*)}((BroadcastedOperator{typeof(*)}((Constant{Float32}(-1.0f0), Variable(Float32[0.0;;], nothing, \"y_true\")), nothing, nothing, \"?\"), BroadcastedOperator{typeof(log)}((BroadcastedOperator{typeof(+)}((BroadcastedOperator{typeof(σ)}((BroadcastedOperator{typeof(mul!)}((Variable(Float32[0.15018842 -0.28983086 … -0.41295993 0.27046475], nothing, \"output_layer\"), BroadcastedOperator{typeof(ReLU)}((BroadcastedOperator{typeof(mul!)}((Variable(Float32[-0.016237168 0.013551528 … 0.0016512527 0.015773153; -0.0016466284 -0.014167843 … -0.017014904 -0.017305773; … ; 1.622564f-7 -0.010556478 … -0.0064730546 -0.000620361; -0.0010941322 0.0025816397 … -0.00806352 -0.0125347935], nothing, \"hidden_layer\"), Variable(Float32[0.0; 0.0; … ; 0.0; 0.0;;], nothing, \"x_input\")), nothing, nothing, \"?\"),), nothing, nothing, \"?\")), nothing, nothing, \"?\"),), nothing, nothing, \"?\"), Constant{Float32}(1.1920929f-7)), nothing, nothing, \"?\"),), nothing, nothing, \"?\")), nothing, nothing, \"?\"), BroadcastedOperator{typeof(*)}((BroadcastedOperator{typeof(-)}((Constant{Float32}(1.0f0), Variable(Float32[0.0;;], nothing, \"y_true\")), nothing, nothing, \"?\"), BroadcastedOperator{typeof(log)}((BroadcastedOperator{typeof(+)}((BroadcastedOperator{typeof(-)}((Constant{Float32}(1.0f0), BroadcastedOperator{typeof(σ)}((BroadcastedOperator{typeof(mul!)}((Variable(Float32[0.15018842 -0.28983086 … -0.41295993 0.27046475], nothing, \"output_layer\"), BroadcastedOperator{typeof(ReLU)}((BroadcastedOperator{typeof(mul!)}((Variable(Float32[-0.016237168 0.013551528 … 0.0016512527 0.015773153; -0.0016466284 -0.014167843 … -0.017014904 -0.017305773; … ; 1.622564f-7 -0.010556478 … -0.0064730546 -0.000620361; -0.0010941322 0.0025816397 … -0.00806352 -0.0125347935], nothing, \"hidden_layer\"), Variable(Float32[0.0; 0.0; … ; 0.0; 0.0;;], nothing, \"x_input\")), nothing, nothing, \"?\"),), nothing, nothing, \"?\")), nothing, nothing, \"?\"),), nothing, nothing, \"?\")), nothing, nothing, \"?\"), Constant{Float32}(1.1920929f-7)), nothing, nothing, \"?\"),), nothing, nothing, \"?\")), nothing, nothing, \"?\")), nothing, nothing, \"?\"),), nothing, nothing, \"?\")], Variable[Variable(Float32[-0.016237168 0.013551528 … 0.0016512527 0.015773153; -0.0016466284 -0.014167843 … -0.017014904 -0.017305773; … ; 1.622564f-7 -0.010556478 … -0.0064730546 -0.000620361; -0.0010941322 0.0025816397 … -0.00806352 -0.0125347935], nothing, \"hidden_layer\"), Variable(Float32[0.15018842 -0.28983086 … -0.41295993 0.27046475], nothing, \"output_layer\")])"
      ]
     },
     "metadata": {},
     "output_type": "display_data"
    }
   ],
   "source": [
    "net = NeuralNetwork(model, Adam(), binary_cross_entropy, compute_accuracy)"
   ]
  },
  {
   "cell_type": "code",
   "execution_count": 15,
   "id": "73d31a5b-4baa-4c4b-9989-7cbfb5534cfb",
   "metadata": {},
   "outputs": [
    {
     "name": "stdout",
     "output_type": "stream",
     "text": [
      "Epoch 1/60: Train Loss: 0.6892, Train Acc: 0.6914, Test Loss: 0.6884, Test Acc: 0.7656, Time: 2.56s\n",
      "Epoch 2/60: Train Loss: 0.6860, Train Acc: 0.7734, Test Loss: 0.6858, Test Acc: 0.7500, Time: 2.79s\n",
      "Epoch 3/60: Train Loss: 0.6820, Train Acc: 0.7930, Test Loss: 0.6821, Test Acc: 0.7188, Time: 2.39s\n",
      "Epoch 4/60: Train Loss: 0.6776, Train Acc: 0.7812, Test Loss: 0.6780, Test Acc: 0.7812, Time: 1.89s\n",
      "Epoch 5/60: Train Loss: 0.6700, Train Acc: 0.8320, Test Loss: 0.6740, Test Acc: 0.7656, Time: 2.02s\n",
      "Epoch 6/60: Train Loss: 0.6652, Train Acc: 0.7930, Test Loss: 0.6692, Test Acc: 0.7656, Time: 2.09s\n",
      "Epoch 7/60: Train Loss: 0.6550, Train Acc: 0.8789, Test Loss: 0.6643, Test Acc: 0.7500, Time: 1.76s\n",
      "Epoch 8/60: Train Loss: 0.6482, Train Acc: 0.8750, Test Loss: 0.6579, Test Acc: 0.7188, Time: 1.90s\n",
      "Epoch 9/60: Train Loss: 0.6396, Train Acc: 0.8750, Test Loss: 0.6516, Test Acc: 0.7344, Time: 1.70s\n",
      "Epoch 10/60: Train Loss: 0.6272, Train Acc: 0.8984, Test Loss: 0.6451, Test Acc: 0.7344, Time: 1.73s\n",
      "Epoch 11/60: Train Loss: 0.6201, Train Acc: 0.8672, Test Loss: 0.6394, Test Acc: 0.7188, Time: 1.98s\n",
      "Epoch 12/60: Train Loss: 0.6182, Train Acc: 0.8672, Test Loss: 0.6337, Test Acc: 0.7500, Time: 1.79s\n",
      "Epoch 13/60: Train Loss: 0.6013, Train Acc: 0.8477, Test Loss: 0.6271, Test Acc: 0.7812, Time: 2.07s\n",
      "Epoch 14/60: Train Loss: 0.5910, Train Acc: 0.8906, Test Loss: 0.6197, Test Acc: 0.7656, Time: 2.00s\n",
      "Epoch 15/60: Train Loss: 0.5923, Train Acc: 0.8555, Test Loss: 0.6114, Test Acc: 0.7500, Time: 1.69s\n",
      "Epoch 16/60: Train Loss: 0.5734, Train Acc: 0.8594, Test Loss: 0.6044, Test Acc: 0.7656, Time: 1.69s\n",
      "Epoch 17/60: Train Loss: 0.5610, Train Acc: 0.8906, Test Loss: 0.5986, Test Acc: 0.7656, Time: 1.86s\n",
      "Epoch 18/60: Train Loss: 0.5414, Train Acc: 0.9180, Test Loss: 0.5925, Test Acc: 0.7656, Time: 1.68s\n",
      "Epoch 19/60: Train Loss: 0.5383, Train Acc: 0.9023, Test Loss: 0.5858, Test Acc: 0.7500, Time: 1.66s\n",
      "Epoch 20/60: Train Loss: 0.5324, Train Acc: 0.8750, Test Loss: 0.5793, Test Acc: 0.7500, Time: 2.00s\n",
      "Epoch 21/60: Train Loss: 0.5227, Train Acc: 0.8867, Test Loss: 0.5724, Test Acc: 0.7500, Time: 2.12s\n",
      "Epoch 22/60: Train Loss: 0.5099, Train Acc: 0.8711, Test Loss: 0.5658, Test Acc: 0.7500, Time: 1.67s\n",
      "Epoch 23/60: Train Loss: 0.4962, Train Acc: 0.8984, Test Loss: 0.5584, Test Acc: 0.7344, Time: 1.93s\n",
      "Epoch 24/60: Train Loss: 0.4931, Train Acc: 0.8906, Test Loss: 0.5516, Test Acc: 0.7344, Time: 1.67s\n",
      "Epoch 25/60: Train Loss: 0.4830, Train Acc: 0.8984, Test Loss: 0.5442, Test Acc: 0.7344, Time: 1.64s\n",
      "Epoch 26/60: Train Loss: 0.4603, Train Acc: 0.9180, Test Loss: 0.5351, Test Acc: 0.7656, Time: 1.87s\n",
      "Epoch 27/60: Train Loss: 0.4598, Train Acc: 0.9062, Test Loss: 0.5271, Test Acc: 0.7969, Time: 1.61s\n",
      "Epoch 28/60: Train Loss: 0.4187, Train Acc: 0.9414, Test Loss: 0.5202, Test Acc: 0.7969, Time: 1.66s\n",
      "Epoch 29/60: Train Loss: 0.4361, Train Acc: 0.9102, Test Loss: 0.5142, Test Acc: 0.7812, Time: 2.30s\n",
      "Epoch 30/60: Train Loss: 0.4273, Train Acc: 0.9453, Test Loss: 0.5081, Test Acc: 0.7812, Time: 2.28s\n",
      "Epoch 31/60: Train Loss: 0.4144, Train Acc: 0.9062, Test Loss: 0.5022, Test Acc: 0.7812, Time: 1.89s\n",
      "Epoch 32/60: Train Loss: 0.4120, Train Acc: 0.8984, Test Loss: 0.4951, Test Acc: 0.7969, Time: 1.98s\n",
      "Epoch 33/60: Train Loss: 0.3904, Train Acc: 0.9023, Test Loss: 0.4893, Test Acc: 0.7969, Time: 2.01s\n",
      "Epoch 34/60: Train Loss: 0.3712, Train Acc: 0.9336, Test Loss: 0.4848, Test Acc: 0.7969, Time: 2.67s\n",
      "Epoch 35/60: Train Loss: 0.4081, Train Acc: 0.8906, Test Loss: 0.4809, Test Acc: 0.7812, Time: 2.08s\n",
      "Epoch 36/60: Train Loss: 0.3769, Train Acc: 0.9336, Test Loss: 0.4772, Test Acc: 0.7969, Time: 2.67s\n",
      "Epoch 37/60: Train Loss: 0.3756, Train Acc: 0.9375, Test Loss: 0.4725, Test Acc: 0.8125, Time: 2.60s\n",
      "Epoch 38/60: Train Loss: 0.3166, Train Acc: 0.9570, Test Loss: 0.4669, Test Acc: 0.8125, Time: 2.54s\n",
      "Epoch 39/60: Train Loss: 0.3338, Train Acc: 0.9453, Test Loss: 0.4615, Test Acc: 0.8125, Time: 2.24s\n",
      "Epoch 40/60: Train Loss: 0.3376, Train Acc: 0.9297, Test Loss: 0.4569, Test Acc: 0.7969, Time: 2.17s\n",
      "Epoch 41/60: Train Loss: 0.3348, Train Acc: 0.9453, Test Loss: 0.4522, Test Acc: 0.8125, Time: 2.12s\n",
      "Epoch 42/60: Train Loss: 0.3181, Train Acc: 0.9297, Test Loss: 0.4467, Test Acc: 0.8125, Time: 1.81s\n",
      "Epoch 43/60: Train Loss: 0.3460, Train Acc: 0.8984, Test Loss: 0.4406, Test Acc: 0.8125, Time: 1.90s\n",
      "Epoch 44/60: Train Loss: 0.3113, Train Acc: 0.9258, Test Loss: 0.4354, Test Acc: 0.8125, Time: 2.66s\n",
      "Epoch 45/60: Train Loss: 0.3003, Train Acc: 0.9492, Test Loss: 0.4308, Test Acc: 0.8125, Time: 1.78s\n",
      "Epoch 46/60: Train Loss: 0.2755, Train Acc: 0.9648, Test Loss: 0.4286, Test Acc: 0.8125, Time: 1.69s\n",
      "Epoch 47/60: Train Loss: 0.2765, Train Acc: 0.9531, Test Loss: 0.4258, Test Acc: 0.8125, Time: 2.16s\n",
      "Epoch 48/60: Train Loss: 0.3064, Train Acc: 0.9219, Test Loss: 0.4237, Test Acc: 0.8281, Time: 1.97s\n",
      "Epoch 49/60: Train Loss: 0.2657, Train Acc: 0.9531, Test Loss: 0.4219, Test Acc: 0.8125, Time: 1.91s\n",
      "Epoch 50/60: Train Loss: 0.2728, Train Acc: 0.9297, Test Loss: 0.4192, Test Acc: 0.8125, Time: 2.04s\n",
      "Epoch 51/60: Train Loss: 0.2680, Train Acc: 0.9375, Test Loss: 0.4168, Test Acc: 0.8125, Time: 1.93s\n",
      "Epoch 52/60: Train Loss: 0.2775, Train Acc: 0.9375, Test Loss: 0.4136, Test Acc: 0.8125, Time: 2.99s\n",
      "Epoch 53/60: Train Loss: 0.2809, Train Acc: 0.9102, Test Loss: 0.4121, Test Acc: 0.8125, Time: 2.56s\n",
      "Epoch 54/60: Train Loss: 0.2434, Train Acc: 0.9414, Test Loss: 0.4097, Test Acc: 0.8125, Time: 2.74s\n",
      "Epoch 55/60: Train Loss: 0.2240, Train Acc: 0.9727, Test Loss: 0.4057, Test Acc: 0.8125, Time: 2.51s\n",
      "Epoch 56/60: Train Loss: 0.2482, Train Acc: 0.9414, Test Loss: 0.4024, Test Acc: 0.7969, Time: 2.14s\n",
      "Epoch 57/60: Train Loss: 0.2131, Train Acc: 0.9727, Test Loss: 0.3976, Test Acc: 0.7969, Time: 2.98s\n",
      "Epoch 58/60: Train Loss: 0.2302, Train Acc: 0.9453, Test Loss: 0.3935, Test Acc: 0.8125, Time: 2.58s\n",
      "Epoch 59/60: Train Loss: 0.2322, Train Acc: 0.9570, Test Loss: 0.3902, Test Acc: 0.8125, Time: 1.96s\n",
      "Epoch 60/60: Train Loss: 0.2142, Train Acc: 0.9648, Test Loss: 0.3877, Test Acc: 0.8125, Time: 1.87s\n"
     ]
    }
   ],
   "source": [
    "epochs = 60\n",
    "for epoch in 1:epochs\n",
    "    t = @elapsed begin\n",
    "        train_loss, train_acc = train!(net, dataset)\n",
    "    end\n",
    "    \n",
    "    test_loss, test_acc = evaluate(net, testset)\n",
    "    @printf(\"Epoch %d/%d: Train Loss: %.4f, Train Acc: %.4f, Test Loss: %.4f, Test Acc: %.4f, Time: %.2fs\\n\",\n",
    "            epoch, epochs, train_loss, train_acc, test_loss, test_acc, t)\n",
    "end"
   ]
  },
  {
   "cell_type": "code",
   "execution_count": null,
   "id": "469c396d",
   "metadata": {},
   "outputs": [],
   "source": []
  }
 ],
 "metadata": {
  "kernelspec": {
   "display_name": "Julia 1.11.5",
   "language": "julia",
   "name": "julia-1.11"
  },
  "language_info": {
   "file_extension": ".jl",
   "mimetype": "application/julia",
   "name": "julia",
   "version": "1.11.5"
  }
 },
 "nbformat": 4,
 "nbformat_minor": 5
}
