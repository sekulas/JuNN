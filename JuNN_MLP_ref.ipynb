{
 "cells": [
  {
   "cell_type": "code",
   "execution_count": 3,
   "id": "0f7e1d37-bcc7-4ab8-ae77-04b2139720f4",
   "metadata": {},
   "outputs": [],
   "source": [
    "include(\"./src/structs.jl\")\n",
    "include(\"./src/scalar_operators.jl\")\n",
    "include(\"./src/broadcast_operators.jl\")\n",
    "include(\"./src/graph.jl\")\n",
    "include(\"./src/forward.jl\")\n",
    "include(\"./src/backward.jl\")\n",
    "include(\"./src/data_loader.jl\")\n",
    "include(\"./src/nn_model.jl\")\n",
    "include(\"./src/optimisers.jl\")\n",
    "include(\"./src/losses.jl\")\n",
    "include(\"./src/layers.jl\")\n",
    "nothing"
   ]
  },
  {
   "cell_type": "code",
   "execution_count": 14,
   "id": "20ac3a91",
   "metadata": {},
   "outputs": [],
   "source": [
    "using Printf, Random\n",
    "using JLD2\n",
    "Random.seed!(0)\n",
    "nothing"
   ]
  },
  {
   "cell_type": "code",
   "execution_count": 7,
   "id": "58b425cc-e1bf-411a-8ece-126481e68c8f",
   "metadata": {},
   "outputs": [
    {
     "name": "stdout",
     "output_type": "stream",
     "text": [
      "Data loaded successfully.\n",
      "X_train size: (17703, 8000)\n",
      "y_train size: (1, 8000)\n",
      "X_test size: (17703, 2000)\n",
      "y_test size: (1, 2000)\n"
     ]
    }
   ],
   "source": [
    "X_train = load(\"./data/imdb_dataset_prepared.jld2\", \"X_train\")\n",
    "y_train = load(\"./data/imdb_dataset_prepared.jld2\", \"y_train\")\n",
    "X_test = load(\"./data/imdb_dataset_prepared.jld2\", \"X_test\")\n",
    "y_test = load(\"./data/imdb_dataset_prepared.jld2\", \"y_test\")\n",
    "\n",
    "println(\"Data loaded successfully.\")\n",
    "println(\"X_train size: \", size(X_train))\n",
    "println(\"y_train size: \", size(y_train))\n",
    "println(\"X_test size: \", size(X_test))\n",
    "println(\"y_test size: \", size(y_test))\n",
    "\n",
    "X_train = Float32.(X_train)\n",
    "y_train = Float32.(y_train)\n",
    "X_test = Float32.(X_test)\n",
    "y_test = Float32.(y_test)\n",
    "nothing"
   ]
  },
  {
   "cell_type": "code",
   "execution_count": 8,
   "id": "3832bdcc-1d8c-4b5b-afaa-835d03680e4c",
   "metadata": {},
   "outputs": [],
   "source": [
    "batch_size = 32\n",
    "\n",
    "dataset = DataLoader((X_train, y_train), batchsize=batch_size, shuffle=true)\n",
    "testset = DataLoader((X_test, y_test), batchsize=batch_size, shuffle=false)\n",
    "nothing"
   ]
  },
  {
   "cell_type": "code",
   "execution_count": 9,
   "id": "b7e0a0fd-f0f8-4398-9df2-812b99239ddf",
   "metadata": {},
   "outputs": [],
   "source": [
    "input_size = size(X_train, 1)\n",
    "\n",
    "model = Chain(\n",
    "    Dense((input_size => 32), ReLU, name=\"hidden_layer\"),\n",
    "    Dense((32 => 1), σ, name=\"output_layer\")\n",
    ")\n",
    "nothing"
   ]
  },
  {
   "cell_type": "code",
   "execution_count": 23,
   "id": "b58018fc-07d8-4918-bfd3-87859ac69b91",
   "metadata": {},
   "outputs": [],
   "source": [
    "function compute_accuracy(actual, pred)\n",
    "    (actual[1] > 0.5f0) == (pred[1] > 0.5f0) ? 1.0f0 : 0.0f0\n",
    "end\n",
    "nothing"
   ]
  },
  {
   "cell_type": "code",
   "execution_count": 17,
   "id": "2db9b600-56d3-4f4e-b820-19005158c3c2",
   "metadata": {},
   "outputs": [
    {
     "data": {
      "text/plain": [
       "NeuralNetwork(Chain{Tuple{Dense{typeof(ReLU)}, Dense{typeof(σ)}}}((Dense{typeof(ReLU)}(Variable(Float32[0.0073064817 0.006928116 … 0.013018726 -0.044078223; 0.02365332 -0.006910294 … -0.022450773 0.045690056; … ; 0.01723829 -0.002930647 … -0.018296892 0.06107838; 0.007813497 -0.0046908823 … 0.0036040726 -0.065520555], nothing, \"hidden_layer\"), nothing, Main.ReLU), Dense{typeof(σ)}(Variable(Float32[0.70563793 -0.87184596 … -0.9922799 0.8233849], nothing, \"output_layer\"), nothing, Main.σ))), Adam(0.001f0, (0.9f0, 0.999f0), 1.1920929f-7, IdDict{Any, Tuple{Any, Any, Vector{Float32}, Any}}()), Main.binary_cross_entropy, Main.compute_accuracy, Variable(Float32[0.0; 0.0; … ; 0.0; 0.0;;], nothing, \"x_input\"), Variable(Float32[0.0;;], nothing, \"y_true\"), BroadcastedOperator{typeof(σ)}((BroadcastedOperator{typeof(mul!)}((Variable(Float32[0.70563793 -0.87184596 … -0.9922799 0.8233849], nothing, \"output_layer\"), BroadcastedOperator{typeof(ReLU)}((BroadcastedOperator{typeof(mul!)}((Variable(Float32[0.0073064817 0.006928116 … 0.013018726 -0.044078223; 0.02365332 -0.006910294 … -0.022450773 0.045690056; … ; 0.01723829 -0.002930647 … -0.018296892 0.06107838; 0.007813497 -0.0046908823 … 0.0036040726 -0.065520555], nothing, \"hidden_layer\"), Variable(Float32[0.0; 0.0; … ; 0.0; 0.0;;], nothing, \"x_input\")), nothing, nothing, \"?\"),), nothing, nothing, \"?\")), nothing, nothing, \"?\"),), nothing, nothing, \"?\"), GraphNode[Constant{Float32}(-1.0f0), Variable(Float32[0.0;;], nothing, \"y_true\"), BroadcastedOperator{typeof(*)}((Constant{Float32}(-1.0f0), Variable(Float32[0.0;;], nothing, \"y_true\")), nothing, nothing, \"?\"), Variable(Float32[0.70563793 -0.87184596 … -0.9922799 0.8233849], nothing, \"output_layer\"), Variable(Float32[0.0073064817 0.006928116 … 0.013018726 -0.044078223; 0.02365332 -0.006910294 … -0.022450773 0.045690056; … ; 0.01723829 -0.002930647 … -0.018296892 0.06107838; 0.007813497 -0.0046908823 … 0.0036040726 -0.065520555], nothing, \"hidden_layer\"), Variable(Float32[0.0; 0.0; … ; 0.0; 0.0;;], nothing, \"x_input\"), BroadcastedOperator{typeof(mul!)}((Variable(Float32[0.0073064817 0.006928116 … 0.013018726 -0.044078223; 0.02365332 -0.006910294 … -0.022450773 0.045690056; … ; 0.01723829 -0.002930647 … -0.018296892 0.06107838; 0.007813497 -0.0046908823 … 0.0036040726 -0.065520555], nothing, \"hidden_layer\"), Variable(Float32[0.0; 0.0; … ; 0.0; 0.0;;], nothing, \"x_input\")), nothing, nothing, \"?\"), BroadcastedOperator{typeof(ReLU)}((BroadcastedOperator{typeof(mul!)}((Variable(Float32[0.0073064817 0.006928116 … 0.013018726 -0.044078223; 0.02365332 -0.006910294 … -0.022450773 0.045690056; … ; 0.01723829 -0.002930647 … -0.018296892 0.06107838; 0.007813497 -0.0046908823 … 0.0036040726 -0.065520555], nothing, \"hidden_layer\"), Variable(Float32[0.0; 0.0; … ; 0.0; 0.0;;], nothing, \"x_input\")), nothing, nothing, \"?\"),), nothing, nothing, \"?\"), BroadcastedOperator{typeof(mul!)}((Variable(Float32[0.70563793 -0.87184596 … -0.9922799 0.8233849], nothing, \"output_layer\"), BroadcastedOperator{typeof(ReLU)}((BroadcastedOperator{typeof(mul!)}((Variable(Float32[0.0073064817 0.006928116 … 0.013018726 -0.044078223; 0.02365332 -0.006910294 … -0.022450773 0.045690056; … ; 0.01723829 -0.002930647 … -0.018296892 0.06107838; 0.007813497 -0.0046908823 … 0.0036040726 -0.065520555], nothing, \"hidden_layer\"), Variable(Float32[0.0; 0.0; … ; 0.0; 0.0;;], nothing, \"x_input\")), nothing, nothing, \"?\"),), nothing, nothing, \"?\")), nothing, nothing, \"?\"), BroadcastedOperator{typeof(σ)}((BroadcastedOperator{typeof(mul!)}((Variable(Float32[0.70563793 -0.87184596 … -0.9922799 0.8233849], nothing, \"output_layer\"), BroadcastedOperator{typeof(ReLU)}((BroadcastedOperator{typeof(mul!)}((Variable(Float32[0.0073064817 0.006928116 … 0.013018726 -0.044078223; 0.02365332 -0.006910294 … -0.022450773 0.045690056; … ; 0.01723829 -0.002930647 … -0.018296892 0.06107838; 0.007813497 -0.0046908823 … 0.0036040726 -0.065520555], nothing, \"hidden_layer\"), Variable(Float32[0.0; 0.0; … ; 0.0; 0.0;;], nothing, \"x_input\")), nothing, nothing, \"?\"),), nothing, nothing, \"?\")), nothing, nothing, \"?\"),), nothing, nothing, \"?\")  …  BroadcastedOperator{typeof(log)}((BroadcastedOperator{typeof(+)}((BroadcastedOperator{typeof(σ)}((BroadcastedOperator{typeof(mul!)}((Variable(Float32[0.70563793 -0.87184596 … -0.9922799 0.8233849], nothing, \"output_layer\"), BroadcastedOperator{typeof(ReLU)}((BroadcastedOperator{typeof(mul!)}((Variable(Float32[0.0073064817 0.006928116 … 0.013018726 -0.044078223; 0.02365332 -0.006910294 … -0.022450773 0.045690056; … ; 0.01723829 -0.002930647 … -0.018296892 0.06107838; 0.007813497 -0.0046908823 … 0.0036040726 -0.065520555], nothing, \"hidden_layer\"), Variable(Float32[0.0; 0.0; … ; 0.0; 0.0;;], nothing, \"x_input\")), nothing, nothing, \"?\"),), nothing, nothing, \"?\")), nothing, nothing, \"?\"),), nothing, nothing, \"?\"), Constant{Float32}(1.1920929f-7)), nothing, nothing, \"?\"),), nothing, nothing, \"?\"), BroadcastedOperator{typeof(*)}((BroadcastedOperator{typeof(*)}((Constant{Float32}(-1.0f0), Variable(Float32[0.0;;], nothing, \"y_true\")), nothing, nothing, \"?\"), BroadcastedOperator{typeof(log)}((BroadcastedOperator{typeof(+)}((BroadcastedOperator{typeof(σ)}((BroadcastedOperator{typeof(mul!)}((Variable(Float32[0.70563793 -0.87184596 … -0.9922799 0.8233849], nothing, \"output_layer\"), BroadcastedOperator{typeof(ReLU)}((BroadcastedOperator{typeof(mul!)}((Variable(Float32[0.0073064817 0.006928116 … 0.013018726 -0.044078223; 0.02365332 -0.006910294 … -0.022450773 0.045690056; … ; 0.01723829 -0.002930647 … -0.018296892 0.06107838; 0.007813497 -0.0046908823 … 0.0036040726 -0.065520555], nothing, \"hidden_layer\"), Variable(Float32[0.0; 0.0; … ; 0.0; 0.0;;], nothing, \"x_input\")), nothing, nothing, \"?\"),), nothing, nothing, \"?\")), nothing, nothing, \"?\"),), nothing, nothing, \"?\"), Constant{Float32}(1.1920929f-7)), nothing, nothing, \"?\"),), nothing, nothing, \"?\")), nothing, nothing, \"?\"), Constant{Float32}(1.0f0), BroadcastedOperator{typeof(-)}((Constant{Float32}(1.0f0), Variable(Float32[0.0;;], nothing, \"y_true\")), nothing, nothing, \"?\"), BroadcastedOperator{typeof(-)}((Constant{Float32}(1.0f0), BroadcastedOperator{typeof(σ)}((BroadcastedOperator{typeof(mul!)}((Variable(Float32[0.70563793 -0.87184596 … -0.9922799 0.8233849], nothing, \"output_layer\"), BroadcastedOperator{typeof(ReLU)}((BroadcastedOperator{typeof(mul!)}((Variable(Float32[0.0073064817 0.006928116 … 0.013018726 -0.044078223; 0.02365332 -0.006910294 … -0.022450773 0.045690056; … ; 0.01723829 -0.002930647 … -0.018296892 0.06107838; 0.007813497 -0.0046908823 … 0.0036040726 -0.065520555], nothing, \"hidden_layer\"), Variable(Float32[0.0; 0.0; … ; 0.0; 0.0;;], nothing, \"x_input\")), nothing, nothing, \"?\"),), nothing, nothing, \"?\")), nothing, nothing, \"?\"),), nothing, nothing, \"?\")), nothing, nothing, \"?\"), BroadcastedOperator{typeof(+)}((BroadcastedOperator{typeof(-)}((Constant{Float32}(1.0f0), BroadcastedOperator{typeof(σ)}((BroadcastedOperator{typeof(mul!)}((Variable(Float32[0.70563793 -0.87184596 … -0.9922799 0.8233849], nothing, \"output_layer\"), BroadcastedOperator{typeof(ReLU)}((BroadcastedOperator{typeof(mul!)}((Variable(Float32[0.0073064817 0.006928116 … 0.013018726 -0.044078223; 0.02365332 -0.006910294 … -0.022450773 0.045690056; … ; 0.01723829 -0.002930647 … -0.018296892 0.06107838; 0.007813497 -0.0046908823 … 0.0036040726 -0.065520555], nothing, \"hidden_layer\"), Variable(Float32[0.0; 0.0; … ; 0.0; 0.0;;], nothing, \"x_input\")), nothing, nothing, \"?\"),), nothing, nothing, \"?\")), nothing, nothing, \"?\"),), nothing, nothing, \"?\")), nothing, nothing, \"?\"), Constant{Float32}(1.1920929f-7)), nothing, nothing, \"?\"), BroadcastedOperator{typeof(log)}((BroadcastedOperator{typeof(+)}((BroadcastedOperator{typeof(-)}((Constant{Float32}(1.0f0), BroadcastedOperator{typeof(σ)}((BroadcastedOperator{typeof(mul!)}((Variable(Float32[0.70563793 -0.87184596 … -0.9922799 0.8233849], nothing, \"output_layer\"), BroadcastedOperator{typeof(ReLU)}((BroadcastedOperator{typeof(mul!)}((Variable(Float32[0.0073064817 0.006928116 … 0.013018726 -0.044078223; 0.02365332 -0.006910294 … -0.022450773 0.045690056; … ; 0.01723829 -0.002930647 … -0.018296892 0.06107838; 0.007813497 -0.0046908823 … 0.0036040726 -0.065520555], nothing, \"hidden_layer\"), Variable(Float32[0.0; 0.0; … ; 0.0; 0.0;;], nothing, \"x_input\")), nothing, nothing, \"?\"),), nothing, nothing, \"?\")), nothing, nothing, \"?\"),), nothing, nothing, \"?\")), nothing, nothing, \"?\"), Constant{Float32}(1.1920929f-7)), nothing, nothing, \"?\"),), nothing, nothing, \"?\"), BroadcastedOperator{typeof(*)}((BroadcastedOperator{typeof(-)}((Constant{Float32}(1.0f0), Variable(Float32[0.0;;], nothing, \"y_true\")), nothing, nothing, \"?\"), BroadcastedOperator{typeof(log)}((BroadcastedOperator{typeof(+)}((BroadcastedOperator{typeof(-)}((Constant{Float32}(1.0f0), BroadcastedOperator{typeof(σ)}((BroadcastedOperator{typeof(mul!)}((Variable(Float32[0.70563793 -0.87184596 … -0.9922799 0.8233849], nothing, \"output_layer\"), BroadcastedOperator{typeof(ReLU)}((BroadcastedOperator{typeof(mul!)}((Variable(Float32[0.0073064817 0.006928116 … 0.013018726 -0.044078223; 0.02365332 -0.006910294 … -0.022450773 0.045690056; … ; 0.01723829 -0.002930647 … -0.018296892 0.06107838; 0.007813497 -0.0046908823 … 0.0036040726 -0.065520555], nothing, \"hidden_layer\"), Variable(Float32[0.0; 0.0; … ; 0.0; 0.0;;], nothing, \"x_input\")), nothing, nothing, \"?\"),), nothing, nothing, \"?\")), nothing, nothing, \"?\"),), nothing, nothing, \"?\")), nothing, nothing, \"?\"), Constant{Float32}(1.1920929f-7)), nothing, nothing, \"?\"),), nothing, nothing, \"?\")), nothing, nothing, \"?\"), BroadcastedOperator{typeof(-)}((BroadcastedOperator{typeof(*)}((BroadcastedOperator{typeof(*)}((Constant{Float32}(-1.0f0), Variable(Float32[0.0;;], nothing, \"y_true\")), nothing, nothing, \"?\"), BroadcastedOperator{typeof(log)}((BroadcastedOperator{typeof(+)}((BroadcastedOperator{typeof(σ)}((BroadcastedOperator{typeof(mul!)}((Variable(Float32[0.70563793 -0.87184596 … -0.9922799 0.8233849], nothing, \"output_layer\"), BroadcastedOperator{typeof(ReLU)}((BroadcastedOperator{typeof(mul!)}((Variable(Float32[0.0073064817 0.006928116 … 0.013018726 -0.044078223; 0.02365332 -0.006910294 … -0.022450773 0.045690056; … ; 0.01723829 -0.002930647 … -0.018296892 0.06107838; 0.007813497 -0.0046908823 … 0.0036040726 -0.065520555], nothing, \"hidden_layer\"), Variable(Float32[0.0; 0.0; … ; 0.0; 0.0;;], nothing, \"x_input\")), nothing, nothing, \"?\"),), nothing, nothing, \"?\")), nothing, nothing, \"?\"),), nothing, nothing, \"?\"), Constant{Float32}(1.1920929f-7)), nothing, nothing, \"?\"),), nothing, nothing, \"?\")), nothing, nothing, \"?\"), BroadcastedOperator{typeof(*)}((BroadcastedOperator{typeof(-)}((Constant{Float32}(1.0f0), Variable(Float32[0.0;;], nothing, \"y_true\")), nothing, nothing, \"?\"), BroadcastedOperator{typeof(log)}((BroadcastedOperator{typeof(+)}((BroadcastedOperator{typeof(-)}((Constant{Float32}(1.0f0), BroadcastedOperator{typeof(σ)}((BroadcastedOperator{typeof(mul!)}((Variable(Float32[0.70563793 -0.87184596 … -0.9922799 0.8233849], nothing, \"output_layer\"), BroadcastedOperator{typeof(ReLU)}((BroadcastedOperator{typeof(mul!)}((Variable(Float32[0.0073064817 0.006928116 … 0.013018726 -0.044078223; 0.02365332 -0.006910294 … -0.022450773 0.045690056; … ; 0.01723829 -0.002930647 … -0.018296892 0.06107838; 0.007813497 -0.0046908823 … 0.0036040726 -0.065520555], nothing, \"hidden_layer\"), Variable(Float32[0.0; 0.0; … ; 0.0; 0.0;;], nothing, \"x_input\")), nothing, nothing, \"?\"),), nothing, nothing, \"?\")), nothing, nothing, \"?\"),), nothing, nothing, \"?\")), nothing, nothing, \"?\"), Constant{Float32}(1.1920929f-7)), nothing, nothing, \"?\"),), nothing, nothing, \"?\")), nothing, nothing, \"?\")), nothing, nothing, \"?\"), BroadcastedOperator{typeof(mean)}((BroadcastedOperator{typeof(-)}((BroadcastedOperator{typeof(*)}((BroadcastedOperator{typeof(*)}((Constant{Float32}(-1.0f0), Variable(Float32[0.0;;], nothing, \"y_true\")), nothing, nothing, \"?\"), BroadcastedOperator{typeof(log)}((BroadcastedOperator{typeof(+)}((BroadcastedOperator{typeof(σ)}((BroadcastedOperator{typeof(mul!)}((Variable(Float32[0.70563793 -0.87184596 … -0.9922799 0.8233849], nothing, \"output_layer\"), BroadcastedOperator{typeof(ReLU)}((BroadcastedOperator{typeof(mul!)}((Variable(Float32[0.0073064817 0.006928116 … 0.013018726 -0.044078223; 0.02365332 -0.006910294 … -0.022450773 0.045690056; … ; 0.01723829 -0.002930647 … -0.018296892 0.06107838; 0.007813497 -0.0046908823 … 0.0036040726 -0.065520555], nothing, \"hidden_layer\"), Variable(Float32[0.0; 0.0; … ; 0.0; 0.0;;], nothing, \"x_input\")), nothing, nothing, \"?\"),), nothing, nothing, \"?\")), nothing, nothing, \"?\"),), nothing, nothing, \"?\"), Constant{Float32}(1.1920929f-7)), nothing, nothing, \"?\"),), nothing, nothing, \"?\")), nothing, nothing, \"?\"), BroadcastedOperator{typeof(*)}((BroadcastedOperator{typeof(-)}((Constant{Float32}(1.0f0), Variable(Float32[0.0;;], nothing, \"y_true\")), nothing, nothing, \"?\"), BroadcastedOperator{typeof(log)}((BroadcastedOperator{typeof(+)}((BroadcastedOperator{typeof(-)}((Constant{Float32}(1.0f0), BroadcastedOperator{typeof(σ)}((BroadcastedOperator{typeof(mul!)}((Variable(Float32[0.70563793 -0.87184596 … -0.9922799 0.8233849], nothing, \"output_layer\"), BroadcastedOperator{typeof(ReLU)}((BroadcastedOperator{typeof(mul!)}((Variable(Float32[0.0073064817 0.006928116 … 0.013018726 -0.044078223; 0.02365332 -0.006910294 … -0.022450773 0.045690056; … ; 0.01723829 -0.002930647 … -0.018296892 0.06107838; 0.007813497 -0.0046908823 … 0.0036040726 -0.065520555], nothing, \"hidden_layer\"), Variable(Float32[0.0; 0.0; … ; 0.0; 0.0;;], nothing, \"x_input\")), nothing, nothing, \"?\"),), nothing, nothing, \"?\")), nothing, nothing, \"?\"),), nothing, nothing, \"?\")), nothing, nothing, \"?\"), Constant{Float32}(1.1920929f-7)), nothing, nothing, \"?\"),), nothing, nothing, \"?\")), nothing, nothing, \"?\")), nothing, nothing, \"?\"),), nothing, nothing, \"?\")], Variable[Variable(Float32[0.0073064817 0.006928116 … 0.013018726 -0.044078223; 0.02365332 -0.006910294 … -0.022450773 0.045690056; … ; 0.01723829 -0.002930647 … -0.018296892 0.06107838; 0.007813497 -0.0046908823 … 0.0036040726 -0.065520555], nothing, \"hidden_layer\"), Variable(Float32[0.70563793 -0.87184596 … -0.9922799 0.8233849], nothing, \"output_layer\")])"
      ]
     },
     "metadata": {},
     "output_type": "display_data"
    }
   ],
   "source": [
    "net = NeuralNetwork(model, Adam(), binary_cross_entropy, compute_accuracy)"
   ]
  },
  {
   "cell_type": "code",
   "execution_count": 24,
   "id": "73d31a5b-4baa-4c4b-9989-7cbfb5534cfb",
   "metadata": {},
   "outputs": [
    {
     "name": "stdout",
     "output_type": "stream",
     "text": [
      "Epoch 1/60: Train Loss: 0.0950, Train Acc: 0.9766, Test Loss: 0.3349, Test Acc: 0.8438, Time: 2.44s\n",
      "Epoch 2/60: Train Loss: 0.1080, Train Acc: 0.9609, Test Loss: 0.3362, Test Acc: 0.8438, Time: 1.73s\n",
      "Epoch 3/60: Train Loss: 0.0891, Train Acc: 0.9805, Test Loss: 0.3361, Test Acc: 0.8438, Time: 1.90s\n",
      "Epoch 4/60: Train Loss: 0.1211, Train Acc: 0.9570, Test Loss: 0.3372, Test Acc: 0.8438, Time: 2.17s\n",
      "Epoch 5/60: Train Loss: 0.1102, Train Acc: 0.9727, Test Loss: 0.3386, Test Acc: 0.8438, Time: 2.02s\n",
      "Epoch 6/60: Train Loss: 0.0982, Train Acc: 0.9766, Test Loss: 0.3374, Test Acc: 0.8438, Time: 1.78s\n",
      "Epoch 7/60: Train Loss: 0.0705, Train Acc: 0.9883, Test Loss: 0.3364, Test Acc: 0.8438, Time: 1.93s\n",
      "Epoch 8/60: Train Loss: 0.0866, Train Acc: 0.9844, Test Loss: 0.3347, Test Acc: 0.8438, Time: 2.11s\n",
      "Epoch 9/60: Train Loss: 0.0935, Train Acc: 0.9688, Test Loss: 0.3330, Test Acc: 0.8438, Time: 1.78s\n",
      "Epoch 10/60: Train Loss: 0.0752, Train Acc: 0.9922, Test Loss: 0.3315, Test Acc: 0.8438, Time: 1.73s\n",
      "Epoch 11/60: Train Loss: 0.1035, Train Acc: 0.9688, Test Loss: 0.3299, Test Acc: 0.8438, Time: 2.06s\n",
      "Epoch 12/60: Train Loss: 0.0981, Train Acc: 0.9727, Test Loss: 0.3300, Test Acc: 0.8438, Time: 2.02s\n",
      "Epoch 13/60: Train Loss: 0.0857, Train Acc: 0.9727, Test Loss: 0.3300, Test Acc: 0.8438, Time: 2.02s\n",
      "Epoch 14/60: Train Loss: 0.0854, Train Acc: 0.9766, Test Loss: 0.3307, Test Acc: 0.8438, Time: 2.10s\n",
      "Epoch 15/60: Train Loss: 0.0915, Train Acc: 0.9844, Test Loss: 0.3308, Test Acc: 0.8438, Time: 2.25s\n",
      "Epoch 16/60: Train Loss: 0.0788, Train Acc: 0.9883, Test Loss: 0.3304, Test Acc: 0.8438, Time: 2.83s\n",
      "Epoch 17/60: Train Loss: 0.0632, Train Acc: 0.9922, Test Loss: 0.3319, Test Acc: 0.8438, Time: 2.67s\n",
      "Epoch 18/60: Train Loss: 0.0846, Train Acc: 0.9766, Test Loss: 0.3314, Test Acc: 0.8438, Time: 2.05s\n",
      "Epoch 19/60: Train Loss: 0.0854, Train Acc: 0.9805, Test Loss: 0.3307, Test Acc: 0.8438, Time: 2.21s\n",
      "Epoch 20/60: Train Loss: 0.1095, Train Acc: 0.9844, Test Loss: 0.3307, Test Acc: 0.8281, Time: 2.54s\n",
      "Epoch 21/60: Train Loss: 0.0830, Train Acc: 0.9805, Test Loss: 0.3304, Test Acc: 0.8281, Time: 2.49s\n",
      "Epoch 22/60: Train Loss: 0.0964, Train Acc: 0.9766, Test Loss: 0.3310, Test Acc: 0.8281, Time: 1.97s\n",
      "Epoch 23/60: Train Loss: 0.0553, Train Acc: 0.9922, Test Loss: 0.3330, Test Acc: 0.8281, Time: 2.43s\n",
      "Epoch 24/60: Train Loss: 0.0643, Train Acc: 0.9883, Test Loss: 0.3357, Test Acc: 0.8281, Time: 2.45s\n",
      "Epoch 25/60: Train Loss: 0.0627, Train Acc: 0.9883, Test Loss: 0.3370, Test Acc: 0.8281, Time: 2.53s\n",
      "Epoch 26/60: Train Loss: 0.0952, Train Acc: 0.9805, Test Loss: 0.3358, Test Acc: 0.8281, Time: 2.17s\n",
      "Epoch 27/60: Train Loss: 0.0555, Train Acc: 0.9922, Test Loss: 0.3350, Test Acc: 0.8281, Time: 1.65s\n",
      "Epoch 28/60: Train Loss: 0.0776, Train Acc: 0.9805, Test Loss: 0.3348, Test Acc: 0.8281, Time: 1.88s\n",
      "Epoch 29/60: Train Loss: 0.0632, Train Acc: 0.9961, Test Loss: 0.3369, Test Acc: 0.8281, Time: 2.15s\n",
      "Epoch 30/60: Train Loss: 0.0551, Train Acc: 0.9805, Test Loss: 0.3384, Test Acc: 0.8281, Time: 2.03s\n",
      "Epoch 31/60: Train Loss: 0.0759, Train Acc: 0.9844, Test Loss: 0.3388, Test Acc: 0.8281, Time: 2.13s\n",
      "Epoch 32/60: Train Loss: 0.0494, Train Acc: 0.9961, Test Loss: 0.3393, Test Acc: 0.8281, Time: 1.80s\n",
      "Epoch 33/60: Train Loss: 0.0424, Train Acc: 1.0000, Test Loss: 0.3405, Test Acc: 0.8281, Time: 1.64s\n",
      "Epoch 34/60: Train Loss: 0.0634, Train Acc: 0.9844, Test Loss: 0.3396, Test Acc: 0.8438, Time: 2.12s\n",
      "Epoch 35/60: Train Loss: 0.0797, Train Acc: 0.9883, Test Loss: 0.3406, Test Acc: 0.8438, Time: 2.81s\n",
      "Epoch 36/60: Train Loss: 0.0534, Train Acc: 0.9922, Test Loss: 0.3402, Test Acc: 0.8438, Time: 1.96s\n",
      "Epoch 37/60: Train Loss: 0.0654, Train Acc: 0.9922, Test Loss: 0.3386, Test Acc: 0.8438, Time: 2.08s\n",
      "Epoch 38/60: Train Loss: 0.0575, Train Acc: 0.9805, Test Loss: 0.3380, Test Acc: 0.8438, Time: 2.29s\n",
      "Epoch 39/60: Train Loss: 0.0588, Train Acc: 0.9922, Test Loss: 0.3385, Test Acc: 0.8438, Time: 2.40s\n",
      "Epoch 40/60: Train Loss: 0.0518, Train Acc: 0.9922, Test Loss: 0.3386, Test Acc: 0.8438, Time: 1.93s\n",
      "Epoch 41/60: Train Loss: 0.0418, Train Acc: 1.0000, Test Loss: 0.3387, Test Acc: 0.8438, Time: 2.23s\n",
      "Epoch 42/60: Train Loss: 0.0563, Train Acc: 0.9961, Test Loss: 0.3400, Test Acc: 0.8438, Time: 2.08s\n",
      "Epoch 43/60: Train Loss: 0.0566, Train Acc: 0.9922, Test Loss: 0.3410, Test Acc: 0.8438, Time: 2.39s\n",
      "Epoch 44/60: Train Loss: 0.0530, Train Acc: 0.9961, Test Loss: 0.3409, Test Acc: 0.8438, Time: 2.33s\n",
      "Epoch 45/60: Train Loss: 0.0571, Train Acc: 0.9844, Test Loss: 0.3408, Test Acc: 0.8438, Time: 2.77s\n",
      "Epoch 46/60: Train Loss: 0.0526, Train Acc: 0.9922, Test Loss: 0.3429, Test Acc: 0.8438, Time: 2.29s\n",
      "Epoch 47/60: Train Loss: 0.0579, Train Acc: 0.9805, Test Loss: 0.3430, Test Acc: 0.8438, Time: 2.44s\n",
      "Epoch 48/60: Train Loss: 0.0592, Train Acc: 0.9844, Test Loss: 0.3434, Test Acc: 0.8438, Time: 1.97s\n",
      "Epoch 49/60: Train Loss: 0.0520, Train Acc: 0.9922, Test Loss: 0.3440, Test Acc: 0.8438, Time: 1.99s\n",
      "Epoch 50/60: Train Loss: 0.0398, Train Acc: 1.0000, Test Loss: 0.3439, Test Acc: 0.8438, Time: 2.04s\n",
      "Epoch 51/60: Train Loss: 0.0523, Train Acc: 0.9883, Test Loss: 0.3436, Test Acc: 0.8281, Time: 1.93s\n",
      "Epoch 52/60: Train Loss: 0.0389, Train Acc: 1.0000, Test Loss: 0.3434, Test Acc: 0.8281, Time: 1.74s\n",
      "Epoch 53/60: Train Loss: 0.0430, Train Acc: 0.9961, Test Loss: 0.3423, Test Acc: 0.8281, Time: 1.91s\n",
      "Epoch 54/60: Train Loss: 0.0457, Train Acc: 0.9961, Test Loss: 0.3417, Test Acc: 0.8281, Time: 2.56s\n",
      "Epoch 55/60: Train Loss: 0.0585, Train Acc: 0.9844, Test Loss: 0.3420, Test Acc: 0.8281, Time: 1.95s\n",
      "Epoch 56/60: Train Loss: 0.0455, Train Acc: 0.9922, Test Loss: 0.3422, Test Acc: 0.8281, Time: 1.71s\n",
      "Epoch 57/60: Train Loss: 0.0578, Train Acc: 0.9805, Test Loss: 0.3418, Test Acc: 0.8281, Time: 1.77s\n",
      "Epoch 58/60: Train Loss: 0.0503, Train Acc: 0.9922, Test Loss: 0.3417, Test Acc: 0.8281, Time: 1.61s\n",
      "Epoch 59/60: Train Loss: 0.0321, Train Acc: 1.0000, Test Loss: 0.3421, Test Acc: 0.8438, Time: 2.54s\n",
      "Epoch 60/60: Train Loss: 0.0523, Train Acc: 0.9922, Test Loss: 0.3431, Test Acc: 0.8438, Time: 2.81s\n"
     ]
    }
   ],
   "source": [
    "epochs = 60\n",
    "for epoch in 1:epochs\n",
    "    t = @elapsed begin\n",
    "        train_loss, train_acc = train!(net, dataset)\n",
    "    end\n",
    "    \n",
    "    test_loss, test_acc = evaluate(net, testset)\n",
    "    @printf(\"Epoch %d/%d: Train Loss: %.4f, Train Acc: %.4f, Test Loss: %.4f, Test Acc: %.4f, Time: %.2fs\\n\",\n",
    "            epoch, epochs, train_loss, train_acc, test_loss, test_acc, t)\n",
    "end"
   ]
  },
  {
   "cell_type": "code",
   "execution_count": null,
   "id": "469c396d",
   "metadata": {},
   "outputs": [],
   "source": []
  }
 ],
 "metadata": {
  "kernelspec": {
   "display_name": "Julia 1.11.5",
   "language": "julia",
   "name": "julia-1.11"
  },
  "language_info": {
   "file_extension": ".jl",
   "mimetype": "application/julia",
   "name": "julia",
   "version": "1.11.5"
  }
 },
 "nbformat": 4,
 "nbformat_minor": 5
}
