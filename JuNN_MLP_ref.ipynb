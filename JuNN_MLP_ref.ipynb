{
 "cells": [
  {
   "cell_type": "code",
   "execution_count": 13,
   "id": "0f7e1d37-bcc7-4ab8-ae77-04b2139720f4",
   "metadata": {},
   "outputs": [
    {
     "data": {
      "text/plain": [
       "swish (generic function with 1 method)"
      ]
     },
     "execution_count": 13,
     "metadata": {},
     "output_type": "execute_result"
    }
   ],
   "source": [
    "include(\"./src/structs.jl\")\n",
    "include(\"./src/scalar_operators.jl\")\n",
    "include(\"./src/broadcast_operators.jl\")\n",
    "include(\"./src/graph.jl\")\n",
    "include(\"./src/forward.jl\")\n",
    "include(\"./src/backward.jl\")\n",
    "include(\"./src/data_loader.jl\")\n",
    "include(\"./src/nn_model.jl\")"
   ]
  },
  {
   "cell_type": "code",
   "execution_count": 3,
   "id": "58b425cc-e1bf-411a-8ece-126481e68c8f",
   "metadata": {},
   "outputs": [
    {
     "name": "stdout",
     "output_type": "stream",
     "text": [
      "Data loaded successfully.\n",
      "X_train size: (17703, 8000)\n",
      "y_train size: (1, 8000)\n",
      "X_test size: (17703, 2000)\n",
      "y_test size: (1, 2000)\n"
     ]
    }
   ],
   "source": [
    "using JLD2\n",
    "X_train = load(\"./data/imdb_dataset_prepared.jld2\", \"X_train\")\n",
    "y_train = load(\"./data/imdb_dataset_prepared.jld2\", \"y_train\")\n",
    "X_test = load(\"./data/imdb_dataset_prepared.jld2\", \"X_test\")\n",
    "y_test = load(\"./data/imdb_dataset_prepared.jld2\", \"y_test\")\n",
    "nothing\n",
    "\n",
    "println(\"Data loaded successfully.\")\n",
    "println(\"X_train size: \", size(X_train))\n",
    "println(\"y_train size: \", size(y_train))\n",
    "println(\"X_test size: \", size(X_test))\n",
    "println(\"y_test size: \", size(y_test))"
   ]
  },
  {
   "cell_type": "code",
   "execution_count": 5,
   "id": "3832bdcc-1d8c-4b5b-afaa-835d03680e4c",
   "metadata": {},
   "outputs": [
    {
     "data": {
      "text/plain": [
       "DataLoader{Tuple{LinearAlgebra.Adjoint{Float32, Matrix{Float32}}, BitMatrix}, Random.TaskLocalRNG}((Float32[0.0 0.0 … 0.0 0.0; 0.0 0.0 … 0.0 0.0; … ; 0.0 0.0 … 0.0 0.0; 0.0 0.0 … 0.0 0.0], Bool[1 1 … 0 0]), 8000, [1, 2, 3, 4, 5, 6, 7, 8, 9, 10  …  7991, 7992, 7993, 7994, 7995, 7996, 7997, 7998, 7999, 8000], 64, 125, true, Random.TaskLocalRNG())"
      ]
     },
     "execution_count": 5,
     "metadata": {},
     "output_type": "execute_result"
    }
   ],
   "source": [
    "dataset = DataLoader((X_train, y_train), batchsize=64, shuffle=true)"
   ]
  },
  {
   "cell_type": "code",
   "execution_count": 15,
   "id": "b7e0a0fd-f0f8-4398-9df2-812b99239ddf",
   "metadata": {},
   "outputs": [
    {
     "data": {
      "text/plain": [
       "17703"
      ]
     },
     "execution_count": 15,
     "metadata": {},
     "output_type": "execute_result"
    }
   ],
   "source": [
    "input_neurons = size(X_train, 1)"
   ]
  },
  {
   "cell_type": "code",
   "execution_count": 17,
   "id": "b58018fc-07d8-4918-bfd3-87859ac69b91",
   "metadata": {},
   "outputs": [
    {
     "data": {
      "text/plain": [
       "Chain{Tuple{Dense{typeof(ReLU)}, Dense{typeof(σ)}}}((Dense{typeof(ReLU)}(Variable(Float32[-0.012824612 0.016066525 … 0.011139176 0.013078813; 0.009789155 0.008216373 … -0.0060159015 -0.0026054694; … ; -0.0088105155 -0.00955435 … -0.0002748799 -0.00974984; 0.001834291 0.009042097 … -0.017506108 -0.0053298576], nothing, \"ReLU_dense\"), nothing, Main.ReLU), Dense{typeof(σ)}(Variable(Float32[0.2760543 -0.23962979 … 0.14839661 0.019258803], nothing, \"σ_dense\"), nothing, Main.σ)))"
      ]
     },
     "execution_count": 17,
     "metadata": {},
     "output_type": "execute_result"
    }
   ],
   "source": [
    "model = Chain(\n",
    "    Dense((input_neurons => 32), ReLU, name=\"ReLU_dense\"),\n",
    "    Dense((32 => 1), σ, name=\"σ_dense\")\n",
    ")"
   ]
  },
  {
   "cell_type": "code",
   "execution_count": 18,
   "id": "2db9b600-56d3-4f4e-b820-19005158c3c2",
   "metadata": {},
   "outputs": [
    {
     "data": {
      "text/plain": [
       "accuracy (generic function with 1 method)"
      ]
     },
     "execution_count": 18,
     "metadata": {},
     "output_type": "execute_result"
    }
   ],
   "source": [
    "loss(m, x, y) = binary_cross_entropy(m(x), y)\n",
    "accuracy(m, x, y) = mean((m(x) .> 0.5) .== (y .> 0.5))"
   ]
  },
  {
   "cell_type": "code",
   "execution_count": 1,
   "id": "73d31a5b-4baa-4c4b-9989-7cbfb5534cfb",
   "metadata": {},
   "outputs": [
    {
     "ename": "LoadError",
     "evalue": "UndefVarError: `loss` not defined in `Main`\nSuggestion: check for spelling errors or missing imports.",
     "output_type": "error",
     "traceback": [
      "UndefVarError: `loss` not defined in `Main`\nSuggestion: check for spelling errors or missing imports.",
      "",
      "Stacktrace:",
      " [1] top-level scope",
      "   @ In[1]:1"
     ]
    }
   ],
   "source": [
    "graph = loss(model, x, y)\n",
    "sorted_graph = topological_sort(graph)"
   ]
  },
  {
   "cell_type": "code",
   "execution_count": 2,
   "id": "1b91c7cb-7daa-48ff-a1c4-fd520d472048",
   "metadata": {},
   "outputs": [
    {
     "data": {
      "text/plain": [
       "5"
      ]
     },
     "execution_count": 2,
     "metadata": {},
     "output_type": "execute_result"
    }
   ],
   "source": [
    "epochs = 5"
   ]
  },
  {
   "cell_type": "code",
   "execution_count": 3,
   "id": "d369bd68-27e2-41af-a231-86c54a96e0aa",
   "metadata": {},
   "outputs": [
    {
     "data": {
      "text/plain": [
       "test (generic function with 1 method)"
      ]
     },
     "execution_count": 3,
     "metadata": {},
     "output_type": "execute_result"
    }
   ],
   "source": [
    "function test(set)\n",
    "    L = 0.0\n",
    "    for j = set\n",
    "      x.output .= inputs[j,:]\n",
    "      y.output .= targets[j,:]\n",
    "      L += forward!(graph)\n",
    "    end\n",
    "    return L / length(set) \n",
    "end"
   ]
  },
  {
   "cell_type": "code",
   "execution_count": null,
   "id": "06465b06-24b3-439f-b786-a64cc66c9780",
   "metadata": {},
   "outputs": [],
   "source": [
    "for i=1:epochs\n",
    "    train!(dataloader[1:64], model, graph, η)\n",
    "    test(test_set)\n",
    "end"
   ]
  },
  {
   "cell_type": "code",
   "execution_count": null,
   "id": "01c0a3d8-f107-408b-84db-c8ca3791c794",
   "metadata": {},
   "outputs": [],
   "source": [
    "function train!(batch, model, graph, lr=0.01f0)\n",
    "    j = first(batch)\n",
    "    x.output .= inputs[j,:]\n",
    "    y.output .= targets[j,:]\n",
    "    forward!(graph)\n",
    "    backward!(graph)\n",
    "\n",
    "    grads = gradient(model)\n",
    "\n",
    "    for j in Iterators.drop(batch, 1)\n",
    "        x.output .= inputs[j,:]\n",
    "        y.output .= targets[j,:]\n",
    "\n",
    "        forward!(graph)\n",
    "        backward!(graph)\n",
    "        \n",
    "        accumulate_gradients!(grads, gradient(model))\n",
    "    end\n",
    "\n",
    "    update_params!(model, lr; grads, batch_len=length(batch))\n",
    "    forward!(graph)\n",
    "    return nothing\n",
    "end"
   ]
  },
  {
   "cell_type": "code",
   "execution_count": null,
   "id": "0eb352db-499e-47b1-b46d-2a0ed0b68666",
   "metadata": {},
   "outputs": [],
   "source": [
    "for epoch in 1:10\n",
    "    avg_loss = train_epoch!(model, dataloader, cross_entropy_loss, opt, graph)\n",
    "    println(\"Epoch $epoch: Loss = $avg_loss\")\n",
    "end"
   ]
  }
 ],
 "metadata": {
  "kernelspec": {
   "display_name": "Julia 1.11.3",
   "language": "julia",
   "name": "julia-1.11"
  },
  "language_info": {
   "file_extension": ".jl",
   "mimetype": "application/julia",
   "name": "julia",
   "version": "1.11.5"
  }
 },
 "nbformat": 4,
 "nbformat_minor": 5
}
